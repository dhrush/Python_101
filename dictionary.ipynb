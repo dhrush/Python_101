{
 "metadata": {
  "language_info": {
   "codemirror_mode": {
    "name": "ipython",
    "version": 3
   },
   "file_extension": ".py",
   "mimetype": "text/x-python",
   "name": "python",
   "nbconvert_exporter": "python",
   "pygments_lexer": "ipython3",
   "version": "3.8.5-final"
  },
  "orig_nbformat": 2,
  "kernelspec": {
   "name": "python3",
   "display_name": "Python 3",
   "language": "python"
  }
 },
 "nbformat": 4,
 "nbformat_minor": 2,
 "cells": [
  {
   "cell_type": "code",
   "execution_count": 1,
   "metadata": {},
   "outputs": [
    {
     "output_type": "stream",
     "name": "stdout",
     "text": [
      "20\n"
     ]
    }
   ],
   "source": [
    "#dictionary(key:value) corresponds to maps in c++\n",
    "#elements are acceses by keys rather than index\n",
    "dict1 = {1:10, 2:20, 3:30, 4:40}\n",
    "print(dict1[2])"
   ]
  },
  {
   "cell_type": "code",
   "execution_count": 4,
   "metadata": {},
   "outputs": [
    {
     "output_type": "stream",
     "name": "stdout",
     "text": [
      "[('P', 89), ('C', 90), ('M', 91)]\n"
     ]
    }
   ],
   "source": [
    "dict2 = {'John':[('P',89), ('C',90), ('M',91)], 'Doe':[('P',89), ('C',90), ('M',91)], 'Lorem':[('P',89), ('C',90), ('M',91)], 'Ipsum':[('P',89), ('C',90), ('M',91)]}\n",
    "print(dict2['Ipsum'])"
   ]
  },
  {
   "cell_type": "code",
   "execution_count": 5,
   "metadata": {},
   "outputs": [
    {
     "output_type": "stream",
     "name": "stdout",
     "text": [
      "{'John': [('P', 89), ('C', 90), ('M', 91)], 'Doe': [('P', 89), ('C', 90), ('M', 91)], 'Lorem': [('P', 89), ('C', 90), ('M', 91)], 'Ipsum': [('P', 89), ('C', 90), ('M', 91)], 'Stephen': [('P', 89), ('C', 90), ('M', 91)]}\n"
     ]
    }
   ],
   "source": [
    "#adding single element to dictionary\n",
    "dict2['Stephen'] = [('P',89), ('C',90), ('M',91)]\n",
    "print(dict2)"
   ]
  },
  {
   "cell_type": "code",
   "execution_count": 6,
   "metadata": {},
   "outputs": [
    {
     "output_type": "stream",
     "name": "stdout",
     "text": [
      "[('P', 89), ('C', 90), ('M', 91)]\n[('P', 89), ('C', 90), ('M', 91)]\n"
     ]
    }
   ],
   "source": [
    "#add multiple element at once\n",
    "dict2.update({'Dev':[('P',89), ('C',90), ('M',91)], 'Neil':[('P',89), ('C',90), ('M',91)]})\n",
    "print(dict2['Dev'])\n",
    "print(dict2['Neil'])"
   ]
  },
  {
   "cell_type": "code",
   "execution_count": 8,
   "metadata": {},
   "outputs": [
    {
     "output_type": "execute_result",
     "data": {
      "text/plain": [
       "{'John': [('P', 89), ('C', 90), ('M', 91)],\n",
       " 'Doe': [('P', 89), ('C', 90), ('M', 91)],\n",
       " 'Lorem': [('P', 89), ('C', 90), ('M', 91)],\n",
       " 'Ipsum': [('P', 89), ('C', 90), ('M', 91)],\n",
       " 'Stephen': [('P', 89), ('C', 90), ('M', 91)],\n",
       " 'Neil': [('P', 89), ('C', 90), ('M', 91)]}"
      ]
     },
     "metadata": {},
     "execution_count": 8
    }
   ],
   "source": [
    "#deleting an element delets by key\n",
    "del dict2['Dev']\n",
    "dict2"
   ]
  },
  {
   "cell_type": "code",
   "execution_count": 9,
   "metadata": {},
   "outputs": [
    {
     "output_type": "error",
     "ename": "KeyError",
     "evalue": "1",
     "traceback": [
      "\u001b[1;31m---------------------------------------------------------------------------\u001b[0m",
      "\u001b[1;31mKeyError\u001b[0m                                  Traceback (most recent call last)",
      "\u001b[1;32m<ipython-input-9-0850811b9035>\u001b[0m in \u001b[0;36m<module>\u001b[1;34m\u001b[0m\n\u001b[0;32m      1\u001b[0m \u001b[0ma\u001b[0m \u001b[1;33m=\u001b[0m \u001b[0mdict\u001b[0m\u001b[1;33m(\u001b[0m\u001b[1;33m)\u001b[0m\u001b[1;33m\u001b[0m\u001b[1;33m\u001b[0m\u001b[0m\n\u001b[1;32m----> 2\u001b[1;33m \u001b[0ma\u001b[0m\u001b[1;33m[\u001b[0m\u001b[1;36m1\u001b[0m\u001b[1;33m]\u001b[0m\u001b[1;33m\u001b[0m\u001b[1;33m\u001b[0m\u001b[0m\n\u001b[0m",
      "\u001b[1;31mKeyError\u001b[0m: 1"
     ]
    }
   ],
   "source": [
    "a = dict()\n",
    "a[1]"
   ]
  },
  {
   "cell_type": "code",
   "execution_count": null,
   "metadata": {},
   "outputs": [],
   "source": []
  }
 ]
}