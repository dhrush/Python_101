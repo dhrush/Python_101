{
 "metadata": {
  "language_info": {
   "codemirror_mode": {
    "name": "ipython",
    "version": 3
   },
   "file_extension": ".py",
   "mimetype": "text/x-python",
   "name": "python",
   "nbconvert_exporter": "python",
   "pygments_lexer": "ipython3",
   "version": "3.8.5-final"
  },
  "orig_nbformat": 2,
  "kernelspec": {
   "name": "python3",
   "display_name": "Python 3",
   "language": "python"
  }
 },
 "nbformat": 4,
 "nbformat_minor": 2,
 "cells": [
  {
   "cell_type": "code",
   "execution_count": 1,
   "metadata": {},
   "outputs": [
    {
     "output_type": "execute_result",
     "data": {
      "text/plain": [
       "   policyID statecode       county  eq_site_limit  hu_site_limit  \\\n",
       "0    119736        FL  CLAY COUNTY       498960.0      498960.00   \n",
       "1    448094        FL  CLAY COUNTY      1322376.3     1322376.30   \n",
       "2    206893        FL  CLAY COUNTY       190724.4      190724.40   \n",
       "3    333743        FL  CLAY COUNTY            0.0       79520.76   \n",
       "4    172534        FL  CLAY COUNTY            0.0      254281.50   \n",
       "\n",
       "   fl_site_limit  fr_site_limit    tiv_2011    tiv_2012  eq_site_deductible  \\\n",
       "0       498960.0       498960.0   498960.00   792148.90                 0.0   \n",
       "1      1322376.3      1322376.3  1322376.30  1438163.57                 0.0   \n",
       "2       190724.4       190724.4   190724.40   192476.78                 0.0   \n",
       "3            0.0            0.0    79520.76    86854.48                 0.0   \n",
       "4            0.0       254281.5   254281.50   246144.49                 0.0   \n",
       "\n",
       "   hu_site_deductible  fl_site_deductible  fr_site_deductible  point_latitude  \\\n",
       "0              9979.2                 0.0                   0       30.102261   \n",
       "1                 0.0                 0.0                   0       30.063936   \n",
       "2                 0.0                 0.0                   0       30.089579   \n",
       "3                 0.0                 0.0                   0       30.063236   \n",
       "4                 0.0                 0.0                   0       30.060614   \n",
       "\n",
       "   point_longitude         line construction  point_granularity  \n",
       "0       -81.711777  Residential      Masonry                  1  \n",
       "1       -81.707664  Residential      Masonry                  3  \n",
       "2       -81.700455  Residential         Wood                  1  \n",
       "3       -81.707703  Residential         Wood                  3  \n",
       "4       -81.702675  Residential         Wood                  1  "
      ],
      "text/html": "<div>\n<style scoped>\n    .dataframe tbody tr th:only-of-type {\n        vertical-align: middle;\n    }\n\n    .dataframe tbody tr th {\n        vertical-align: top;\n    }\n\n    .dataframe thead th {\n        text-align: right;\n    }\n</style>\n<table border=\"1\" class=\"dataframe\">\n  <thead>\n    <tr style=\"text-align: right;\">\n      <th></th>\n      <th>policyID</th>\n      <th>statecode</th>\n      <th>county</th>\n      <th>eq_site_limit</th>\n      <th>hu_site_limit</th>\n      <th>fl_site_limit</th>\n      <th>fr_site_limit</th>\n      <th>tiv_2011</th>\n      <th>tiv_2012</th>\n      <th>eq_site_deductible</th>\n      <th>hu_site_deductible</th>\n      <th>fl_site_deductible</th>\n      <th>fr_site_deductible</th>\n      <th>point_latitude</th>\n      <th>point_longitude</th>\n      <th>line</th>\n      <th>construction</th>\n      <th>point_granularity</th>\n    </tr>\n  </thead>\n  <tbody>\n    <tr>\n      <th>0</th>\n      <td>119736</td>\n      <td>FL</td>\n      <td>CLAY COUNTY</td>\n      <td>498960.0</td>\n      <td>498960.00</td>\n      <td>498960.0</td>\n      <td>498960.0</td>\n      <td>498960.00</td>\n      <td>792148.90</td>\n      <td>0.0</td>\n      <td>9979.2</td>\n      <td>0.0</td>\n      <td>0</td>\n      <td>30.102261</td>\n      <td>-81.711777</td>\n      <td>Residential</td>\n      <td>Masonry</td>\n      <td>1</td>\n    </tr>\n    <tr>\n      <th>1</th>\n      <td>448094</td>\n      <td>FL</td>\n      <td>CLAY COUNTY</td>\n      <td>1322376.3</td>\n      <td>1322376.30</td>\n      <td>1322376.3</td>\n      <td>1322376.3</td>\n      <td>1322376.30</td>\n      <td>1438163.57</td>\n      <td>0.0</td>\n      <td>0.0</td>\n      <td>0.0</td>\n      <td>0</td>\n      <td>30.063936</td>\n      <td>-81.707664</td>\n      <td>Residential</td>\n      <td>Masonry</td>\n      <td>3</td>\n    </tr>\n    <tr>\n      <th>2</th>\n      <td>206893</td>\n      <td>FL</td>\n      <td>CLAY COUNTY</td>\n      <td>190724.4</td>\n      <td>190724.40</td>\n      <td>190724.4</td>\n      <td>190724.4</td>\n      <td>190724.40</td>\n      <td>192476.78</td>\n      <td>0.0</td>\n      <td>0.0</td>\n      <td>0.0</td>\n      <td>0</td>\n      <td>30.089579</td>\n      <td>-81.700455</td>\n      <td>Residential</td>\n      <td>Wood</td>\n      <td>1</td>\n    </tr>\n    <tr>\n      <th>3</th>\n      <td>333743</td>\n      <td>FL</td>\n      <td>CLAY COUNTY</td>\n      <td>0.0</td>\n      <td>79520.76</td>\n      <td>0.0</td>\n      <td>0.0</td>\n      <td>79520.76</td>\n      <td>86854.48</td>\n      <td>0.0</td>\n      <td>0.0</td>\n      <td>0.0</td>\n      <td>0</td>\n      <td>30.063236</td>\n      <td>-81.707703</td>\n      <td>Residential</td>\n      <td>Wood</td>\n      <td>3</td>\n    </tr>\n    <tr>\n      <th>4</th>\n      <td>172534</td>\n      <td>FL</td>\n      <td>CLAY COUNTY</td>\n      <td>0.0</td>\n      <td>254281.50</td>\n      <td>0.0</td>\n      <td>254281.5</td>\n      <td>254281.50</td>\n      <td>246144.49</td>\n      <td>0.0</td>\n      <td>0.0</td>\n      <td>0.0</td>\n      <td>0</td>\n      <td>30.060614</td>\n      <td>-81.702675</td>\n      <td>Residential</td>\n      <td>Wood</td>\n      <td>1</td>\n    </tr>\n  </tbody>\n</table>\n</div>"
     },
     "metadata": {},
     "execution_count": 1
    }
   ],
   "source": [
    "import pandas as pd\n",
    "df = pd.read_csv('data.csv')\n",
    "df.head()"
   ]
  },
  {
   "cell_type": "code",
   "execution_count": 7,
   "metadata": {},
   "outputs": [
    {
     "output_type": "execute_result",
     "data": {
      "text/plain": [
       "       policyID statecode         county  eq_site_limit  hu_site_limit  \\\n",
       "14102    340585        FL  ORANGE COUNTY   2.160000e+09   2.160000e+09   \n",
       "14096    166901        FL  ORANGE COUNTY   1.701000e+09   1.701000e+09   \n",
       "12897    594469        FL  ORANGE COUNTY   1.017000e+09   1.017000e+09   \n",
       "13540    135077        FL  ORANGE COUNTY   6.552000e+08   6.552000e+08   \n",
       "13830    425212        FL  ORANGE COUNTY   6.345000e+08   6.345000e+08   \n",
       "\n",
       "       fl_site_limit  fr_site_limit      tiv_2011      tiv_2012  \\\n",
       "14102   2.160000e+09   2.160000e+09  2.160000e+09  1.701000e+09   \n",
       "14096   1.701000e+09   1.701000e+09  1.701000e+09  1.584000e+09   \n",
       "12897   1.017000e+09   1.017000e+09  1.017000e+09  8.883000e+08   \n",
       "13540   6.552000e+08   6.552000e+08  6.552000e+08  5.580000e+08   \n",
       "13830   6.345000e+08   6.345000e+08  6.345000e+08  5.832000e+08   \n",
       "\n",
       "       eq_site_deductible  hu_site_deductible  fl_site_deductible  \\\n",
       "14102                 0.0                 0.0                 0.0   \n",
       "14096                 0.0                 0.0                 0.0   \n",
       "12897                 0.0                 0.0                 0.0   \n",
       "13540                 0.0                 0.0                 0.0   \n",
       "13830                 0.0                 0.0                 0.0   \n",
       "\n",
       "       fr_site_deductible  point_latitude  point_longitude        line  \\\n",
       "14102                   0       28.394620       -81.572720  Commercial   \n",
       "14096                   0       28.357460       -81.593071  Commercial   \n",
       "12897                   0       28.573132       -81.369820  Commercial   \n",
       "13540                   0       28.450022       -81.456139  Commercial   \n",
       "13830                   0       28.543095       -81.221676  Commercial   \n",
       "\n",
       "      construction  point_granularity  \n",
       "14102  Steel Frame                  4  \n",
       "14096  Steel Frame                  4  \n",
       "12897  Steel Frame                  1  \n",
       "13540  Steel Frame                  1  \n",
       "13830  Steel Frame                  1  "
      ],
      "text/html": "<div>\n<style scoped>\n    .dataframe tbody tr th:only-of-type {\n        vertical-align: middle;\n    }\n\n    .dataframe tbody tr th {\n        vertical-align: top;\n    }\n\n    .dataframe thead th {\n        text-align: right;\n    }\n</style>\n<table border=\"1\" class=\"dataframe\">\n  <thead>\n    <tr style=\"text-align: right;\">\n      <th></th>\n      <th>policyID</th>\n      <th>statecode</th>\n      <th>county</th>\n      <th>eq_site_limit</th>\n      <th>hu_site_limit</th>\n      <th>fl_site_limit</th>\n      <th>fr_site_limit</th>\n      <th>tiv_2011</th>\n      <th>tiv_2012</th>\n      <th>eq_site_deductible</th>\n      <th>hu_site_deductible</th>\n      <th>fl_site_deductible</th>\n      <th>fr_site_deductible</th>\n      <th>point_latitude</th>\n      <th>point_longitude</th>\n      <th>line</th>\n      <th>construction</th>\n      <th>point_granularity</th>\n    </tr>\n  </thead>\n  <tbody>\n    <tr>\n      <th>14102</th>\n      <td>340585</td>\n      <td>FL</td>\n      <td>ORANGE COUNTY</td>\n      <td>2.160000e+09</td>\n      <td>2.160000e+09</td>\n      <td>2.160000e+09</td>\n      <td>2.160000e+09</td>\n      <td>2.160000e+09</td>\n      <td>1.701000e+09</td>\n      <td>0.0</td>\n      <td>0.0</td>\n      <td>0.0</td>\n      <td>0</td>\n      <td>28.394620</td>\n      <td>-81.572720</td>\n      <td>Commercial</td>\n      <td>Steel Frame</td>\n      <td>4</td>\n    </tr>\n    <tr>\n      <th>14096</th>\n      <td>166901</td>\n      <td>FL</td>\n      <td>ORANGE COUNTY</td>\n      <td>1.701000e+09</td>\n      <td>1.701000e+09</td>\n      <td>1.701000e+09</td>\n      <td>1.701000e+09</td>\n      <td>1.701000e+09</td>\n      <td>1.584000e+09</td>\n      <td>0.0</td>\n      <td>0.0</td>\n      <td>0.0</td>\n      <td>0</td>\n      <td>28.357460</td>\n      <td>-81.593071</td>\n      <td>Commercial</td>\n      <td>Steel Frame</td>\n      <td>4</td>\n    </tr>\n    <tr>\n      <th>12897</th>\n      <td>594469</td>\n      <td>FL</td>\n      <td>ORANGE COUNTY</td>\n      <td>1.017000e+09</td>\n      <td>1.017000e+09</td>\n      <td>1.017000e+09</td>\n      <td>1.017000e+09</td>\n      <td>1.017000e+09</td>\n      <td>8.883000e+08</td>\n      <td>0.0</td>\n      <td>0.0</td>\n      <td>0.0</td>\n      <td>0</td>\n      <td>28.573132</td>\n      <td>-81.369820</td>\n      <td>Commercial</td>\n      <td>Steel Frame</td>\n      <td>1</td>\n    </tr>\n    <tr>\n      <th>13540</th>\n      <td>135077</td>\n      <td>FL</td>\n      <td>ORANGE COUNTY</td>\n      <td>6.552000e+08</td>\n      <td>6.552000e+08</td>\n      <td>6.552000e+08</td>\n      <td>6.552000e+08</td>\n      <td>6.552000e+08</td>\n      <td>5.580000e+08</td>\n      <td>0.0</td>\n      <td>0.0</td>\n      <td>0.0</td>\n      <td>0</td>\n      <td>28.450022</td>\n      <td>-81.456139</td>\n      <td>Commercial</td>\n      <td>Steel Frame</td>\n      <td>1</td>\n    </tr>\n    <tr>\n      <th>13830</th>\n      <td>425212</td>\n      <td>FL</td>\n      <td>ORANGE COUNTY</td>\n      <td>6.345000e+08</td>\n      <td>6.345000e+08</td>\n      <td>6.345000e+08</td>\n      <td>6.345000e+08</td>\n      <td>6.345000e+08</td>\n      <td>5.832000e+08</td>\n      <td>0.0</td>\n      <td>0.0</td>\n      <td>0.0</td>\n      <td>0</td>\n      <td>28.543095</td>\n      <td>-81.221676</td>\n      <td>Commercial</td>\n      <td>Steel Frame</td>\n      <td>1</td>\n    </tr>\n  </tbody>\n</table>\n</div>"
     },
     "metadata": {},
     "execution_count": 7
    }
   ],
   "source": [
    "#when multiple columns are passed first column is given preference then the second column\n",
    "sorted_fl_site_limit = df.sort_values(by=['fl_site_limit', 'fr_site_limit'], ascending=False)\n",
    "sorted_fl_site_limit[:5]"
   ]
  },
  {
   "cell_type": "code",
   "execution_count": 8,
   "metadata": {},
   "outputs": [
    {
     "output_type": "execute_result",
     "data": {
      "text/plain": [
       "       policyID statecode             county  eq_site_limit  hu_site_limit  \\\n",
       "14102    340585        FL      ORANGE COUNTY   2.160000e+09   2.160000e+09   \n",
       "14096    166901        FL      ORANGE COUNTY   1.701000e+09   1.701000e+09   \n",
       "12897    594469        FL      ORANGE COUNTY   1.017000e+09   1.017000e+09   \n",
       "13540    135077        FL      ORANGE COUNTY   6.552000e+08   6.552000e+08   \n",
       "13830    425212        FL      ORANGE COUNTY   6.345000e+08   6.345000e+08   \n",
       "17227    331154        FL  MIAMI DADE COUNTY   5.508000e+08   5.508000e+08   \n",
       "\n",
       "       fl_site_limit  fr_site_limit      tiv_2011      tiv_2012  \\\n",
       "14102   2.160000e+09   2.160000e+09  2.160000e+09  1.701000e+09   \n",
       "14096   1.701000e+09   1.701000e+09  1.701000e+09  1.584000e+09   \n",
       "12897   1.017000e+09   1.017000e+09  1.017000e+09  8.883000e+08   \n",
       "13540   6.552000e+08   6.552000e+08  6.552000e+08  5.580000e+08   \n",
       "13830   6.345000e+08   6.345000e+08  6.345000e+08  5.832000e+08   \n",
       "17227   5.508000e+08   5.508000e+08  5.508000e+08  8.739000e+08   \n",
       "\n",
       "       eq_site_deductible  hu_site_deductible  fl_site_deductible  \\\n",
       "14102                 0.0                 0.0                 0.0   \n",
       "14096                 0.0                 0.0                 0.0   \n",
       "12897                 0.0                 0.0                 0.0   \n",
       "13540                 0.0                 0.0                 0.0   \n",
       "13830                 0.0                 0.0                 0.0   \n",
       "17227                 0.0                 2.7                 2.7   \n",
       "\n",
       "       fr_site_deductible  point_latitude  point_longitude        line  \\\n",
       "14102                   0       28.394620       -81.572720  Commercial   \n",
       "14096                   0       28.357460       -81.593071  Commercial   \n",
       "12897                   0       28.573132       -81.369820  Commercial   \n",
       "13540                   0       28.450022       -81.456139  Commercial   \n",
       "13830                   0       28.543095       -81.221676  Commercial   \n",
       "17227                   0       25.957620       -80.238560  Commercial   \n",
       "\n",
       "      construction  point_granularity  \n",
       "14102  Steel Frame                  4  \n",
       "14096  Steel Frame                  4  \n",
       "12897  Steel Frame                  1  \n",
       "13540  Steel Frame                  1  \n",
       "13830  Steel Frame                  1  \n",
       "17227  Steel Frame                  1  "
      ],
      "text/html": "<div>\n<style scoped>\n    .dataframe tbody tr th:only-of-type {\n        vertical-align: middle;\n    }\n\n    .dataframe tbody tr th {\n        vertical-align: top;\n    }\n\n    .dataframe thead th {\n        text-align: right;\n    }\n</style>\n<table border=\"1\" class=\"dataframe\">\n  <thead>\n    <tr style=\"text-align: right;\">\n      <th></th>\n      <th>policyID</th>\n      <th>statecode</th>\n      <th>county</th>\n      <th>eq_site_limit</th>\n      <th>hu_site_limit</th>\n      <th>fl_site_limit</th>\n      <th>fr_site_limit</th>\n      <th>tiv_2011</th>\n      <th>tiv_2012</th>\n      <th>eq_site_deductible</th>\n      <th>hu_site_deductible</th>\n      <th>fl_site_deductible</th>\n      <th>fr_site_deductible</th>\n      <th>point_latitude</th>\n      <th>point_longitude</th>\n      <th>line</th>\n      <th>construction</th>\n      <th>point_granularity</th>\n    </tr>\n  </thead>\n  <tbody>\n    <tr>\n      <th>14102</th>\n      <td>340585</td>\n      <td>FL</td>\n      <td>ORANGE COUNTY</td>\n      <td>2.160000e+09</td>\n      <td>2.160000e+09</td>\n      <td>2.160000e+09</td>\n      <td>2.160000e+09</td>\n      <td>2.160000e+09</td>\n      <td>1.701000e+09</td>\n      <td>0.0</td>\n      <td>0.0</td>\n      <td>0.0</td>\n      <td>0</td>\n      <td>28.394620</td>\n      <td>-81.572720</td>\n      <td>Commercial</td>\n      <td>Steel Frame</td>\n      <td>4</td>\n    </tr>\n    <tr>\n      <th>14096</th>\n      <td>166901</td>\n      <td>FL</td>\n      <td>ORANGE COUNTY</td>\n      <td>1.701000e+09</td>\n      <td>1.701000e+09</td>\n      <td>1.701000e+09</td>\n      <td>1.701000e+09</td>\n      <td>1.701000e+09</td>\n      <td>1.584000e+09</td>\n      <td>0.0</td>\n      <td>0.0</td>\n      <td>0.0</td>\n      <td>0</td>\n      <td>28.357460</td>\n      <td>-81.593071</td>\n      <td>Commercial</td>\n      <td>Steel Frame</td>\n      <td>4</td>\n    </tr>\n    <tr>\n      <th>12897</th>\n      <td>594469</td>\n      <td>FL</td>\n      <td>ORANGE COUNTY</td>\n      <td>1.017000e+09</td>\n      <td>1.017000e+09</td>\n      <td>1.017000e+09</td>\n      <td>1.017000e+09</td>\n      <td>1.017000e+09</td>\n      <td>8.883000e+08</td>\n      <td>0.0</td>\n      <td>0.0</td>\n      <td>0.0</td>\n      <td>0</td>\n      <td>28.573132</td>\n      <td>-81.369820</td>\n      <td>Commercial</td>\n      <td>Steel Frame</td>\n      <td>1</td>\n    </tr>\n    <tr>\n      <th>13540</th>\n      <td>135077</td>\n      <td>FL</td>\n      <td>ORANGE COUNTY</td>\n      <td>6.552000e+08</td>\n      <td>6.552000e+08</td>\n      <td>6.552000e+08</td>\n      <td>6.552000e+08</td>\n      <td>6.552000e+08</td>\n      <td>5.580000e+08</td>\n      <td>0.0</td>\n      <td>0.0</td>\n      <td>0.0</td>\n      <td>0</td>\n      <td>28.450022</td>\n      <td>-81.456139</td>\n      <td>Commercial</td>\n      <td>Steel Frame</td>\n      <td>1</td>\n    </tr>\n    <tr>\n      <th>13830</th>\n      <td>425212</td>\n      <td>FL</td>\n      <td>ORANGE COUNTY</td>\n      <td>6.345000e+08</td>\n      <td>6.345000e+08</td>\n      <td>6.345000e+08</td>\n      <td>6.345000e+08</td>\n      <td>6.345000e+08</td>\n      <td>5.832000e+08</td>\n      <td>0.0</td>\n      <td>0.0</td>\n      <td>0.0</td>\n      <td>0</td>\n      <td>28.543095</td>\n      <td>-81.221676</td>\n      <td>Commercial</td>\n      <td>Steel Frame</td>\n      <td>1</td>\n    </tr>\n    <tr>\n      <th>17227</th>\n      <td>331154</td>\n      <td>FL</td>\n      <td>MIAMI DADE COUNTY</td>\n      <td>5.508000e+08</td>\n      <td>5.508000e+08</td>\n      <td>5.508000e+08</td>\n      <td>5.508000e+08</td>\n      <td>5.508000e+08</td>\n      <td>8.739000e+08</td>\n      <td>0.0</td>\n      <td>2.7</td>\n      <td>2.7</td>\n      <td>0</td>\n      <td>25.957620</td>\n      <td>-80.238560</td>\n      <td>Commercial</td>\n      <td>Steel Frame</td>\n      <td>1</td>\n    </tr>\n  </tbody>\n</table>\n</div>"
     },
     "metadata": {},
     "execution_count": 8
    }
   ],
   "source": [
    "#inplace does sorting in original df\n",
    "df.sort_values(by='fr_site_limit', ascending=False, inplace=True)\n",
    "df[:6]"
   ]
  },
  {
   "cell_type": "code",
   "execution_count": 10,
   "metadata": {},
   "outputs": [
    {
     "output_type": "execute_result",
     "data": {
      "text/plain": [
       "   policyID statecode       county  eq_site_limit  hu_site_limit  \\\n",
       "0    119736        FL  CLAY COUNTY       498960.0      498960.00   \n",
       "1    448094        FL  CLAY COUNTY      1322376.3     1322376.30   \n",
       "2    206893        FL  CLAY COUNTY       190724.4      190724.40   \n",
       "3    333743        FL  CLAY COUNTY            0.0       79520.76   \n",
       "4    172534        FL  CLAY COUNTY            0.0      254281.50   \n",
       "5    785275        FL  CLAY COUNTY            0.0      515035.62   \n",
       "\n",
       "   fl_site_limit  fr_site_limit    tiv_2011    tiv_2012  eq_site_deductible  \\\n",
       "0       498960.0       498960.0   498960.00   792148.90                 0.0   \n",
       "1      1322376.3      1322376.3  1322376.30  1438163.57                 0.0   \n",
       "2       190724.4       190724.4   190724.40   192476.78                 0.0   \n",
       "3            0.0            0.0    79520.76    86854.48                 0.0   \n",
       "4            0.0       254281.5   254281.50   246144.49                 0.0   \n",
       "5            0.0            0.0   515035.62   884419.17                 0.0   \n",
       "\n",
       "   hu_site_deductible  fl_site_deductible  fr_site_deductible  point_latitude  \\\n",
       "0              9979.2                 0.0                   0       30.102261   \n",
       "1                 0.0                 0.0                   0       30.063936   \n",
       "2                 0.0                 0.0                   0       30.089579   \n",
       "3                 0.0                 0.0                   0       30.063236   \n",
       "4                 0.0                 0.0                   0       30.060614   \n",
       "5                 0.0                 0.0                   0       30.063236   \n",
       "\n",
       "   point_longitude         line construction  point_granularity  \n",
       "0       -81.711777  Residential      Masonry                  1  \n",
       "1       -81.707664  Residential      Masonry                  3  \n",
       "2       -81.700455  Residential         Wood                  1  \n",
       "3       -81.707703  Residential         Wood                  3  \n",
       "4       -81.702675  Residential         Wood                  1  \n",
       "5       -81.707703  Residential      Masonry                  3  "
      ],
      "text/html": "<div>\n<style scoped>\n    .dataframe tbody tr th:only-of-type {\n        vertical-align: middle;\n    }\n\n    .dataframe tbody tr th {\n        vertical-align: top;\n    }\n\n    .dataframe thead th {\n        text-align: right;\n    }\n</style>\n<table border=\"1\" class=\"dataframe\">\n  <thead>\n    <tr style=\"text-align: right;\">\n      <th></th>\n      <th>policyID</th>\n      <th>statecode</th>\n      <th>county</th>\n      <th>eq_site_limit</th>\n      <th>hu_site_limit</th>\n      <th>fl_site_limit</th>\n      <th>fr_site_limit</th>\n      <th>tiv_2011</th>\n      <th>tiv_2012</th>\n      <th>eq_site_deductible</th>\n      <th>hu_site_deductible</th>\n      <th>fl_site_deductible</th>\n      <th>fr_site_deductible</th>\n      <th>point_latitude</th>\n      <th>point_longitude</th>\n      <th>line</th>\n      <th>construction</th>\n      <th>point_granularity</th>\n    </tr>\n  </thead>\n  <tbody>\n    <tr>\n      <th>0</th>\n      <td>119736</td>\n      <td>FL</td>\n      <td>CLAY COUNTY</td>\n      <td>498960.0</td>\n      <td>498960.00</td>\n      <td>498960.0</td>\n      <td>498960.0</td>\n      <td>498960.00</td>\n      <td>792148.90</td>\n      <td>0.0</td>\n      <td>9979.2</td>\n      <td>0.0</td>\n      <td>0</td>\n      <td>30.102261</td>\n      <td>-81.711777</td>\n      <td>Residential</td>\n      <td>Masonry</td>\n      <td>1</td>\n    </tr>\n    <tr>\n      <th>1</th>\n      <td>448094</td>\n      <td>FL</td>\n      <td>CLAY COUNTY</td>\n      <td>1322376.3</td>\n      <td>1322376.30</td>\n      <td>1322376.3</td>\n      <td>1322376.3</td>\n      <td>1322376.30</td>\n      <td>1438163.57</td>\n      <td>0.0</td>\n      <td>0.0</td>\n      <td>0.0</td>\n      <td>0</td>\n      <td>30.063936</td>\n      <td>-81.707664</td>\n      <td>Residential</td>\n      <td>Masonry</td>\n      <td>3</td>\n    </tr>\n    <tr>\n      <th>2</th>\n      <td>206893</td>\n      <td>FL</td>\n      <td>CLAY COUNTY</td>\n      <td>190724.4</td>\n      <td>190724.40</td>\n      <td>190724.4</td>\n      <td>190724.4</td>\n      <td>190724.40</td>\n      <td>192476.78</td>\n      <td>0.0</td>\n      <td>0.0</td>\n      <td>0.0</td>\n      <td>0</td>\n      <td>30.089579</td>\n      <td>-81.700455</td>\n      <td>Residential</td>\n      <td>Wood</td>\n      <td>1</td>\n    </tr>\n    <tr>\n      <th>3</th>\n      <td>333743</td>\n      <td>FL</td>\n      <td>CLAY COUNTY</td>\n      <td>0.0</td>\n      <td>79520.76</td>\n      <td>0.0</td>\n      <td>0.0</td>\n      <td>79520.76</td>\n      <td>86854.48</td>\n      <td>0.0</td>\n      <td>0.0</td>\n      <td>0.0</td>\n      <td>0</td>\n      <td>30.063236</td>\n      <td>-81.707703</td>\n      <td>Residential</td>\n      <td>Wood</td>\n      <td>3</td>\n    </tr>\n    <tr>\n      <th>4</th>\n      <td>172534</td>\n      <td>FL</td>\n      <td>CLAY COUNTY</td>\n      <td>0.0</td>\n      <td>254281.50</td>\n      <td>0.0</td>\n      <td>254281.5</td>\n      <td>254281.50</td>\n      <td>246144.49</td>\n      <td>0.0</td>\n      <td>0.0</td>\n      <td>0.0</td>\n      <td>0</td>\n      <td>30.060614</td>\n      <td>-81.702675</td>\n      <td>Residential</td>\n      <td>Wood</td>\n      <td>1</td>\n    </tr>\n    <tr>\n      <th>5</th>\n      <td>785275</td>\n      <td>FL</td>\n      <td>CLAY COUNTY</td>\n      <td>0.0</td>\n      <td>515035.62</td>\n      <td>0.0</td>\n      <td>0.0</td>\n      <td>515035.62</td>\n      <td>884419.17</td>\n      <td>0.0</td>\n      <td>0.0</td>\n      <td>0.0</td>\n      <td>0</td>\n      <td>30.063236</td>\n      <td>-81.707703</td>\n      <td>Residential</td>\n      <td>Masonry</td>\n      <td>3</td>\n    </tr>\n  </tbody>\n</table>\n</div>"
     },
     "metadata": {},
     "execution_count": 10
    }
   ],
   "source": [
    "#the sort_index replaces the modified df by original df\n",
    "df.sort_index(inplace=True)\n",
    "df[:6]"
   ]
  },
  {
   "cell_type": "code",
   "execution_count": 12,
   "metadata": {},
   "outputs": [
    {
     "output_type": "execute_result",
     "data": {
      "text/plain": [
       "       policyID statecode           county  eq_site_limit  hu_site_limit  \\\n",
       "17865    100074        FL   BROWARD COUNTY            0.0       44665.57   \n",
       "34833    100123        FL    CITRUS COUNTY         4374.0        4374.00   \n",
       "1494     100141        FL     DUVAL COUNTY       494802.0      494802.00   \n",
       "7534     100183        FL  OKALOOSA COUNTY            0.0       52032.55   \n",
       "34480    100203        FL  SARASOTA COUNTY            0.0      220993.74   \n",
       "...         ...       ...              ...            ...            ...   \n",
       "35572    999908        FL    MARION COUNTY        72084.6       72084.60   \n",
       "6886     999934        FL  ESCAMBIA COUNTY            0.0      120360.03   \n",
       "8170     999959        FL  ESCAMBIA COUNTY            0.0       66150.00   \n",
       "36261    999970        FL     PASCO COUNTY            0.0      530317.42   \n",
       "1674     999971        FL   VOLUSIA COUNTY            0.0      208962.00   \n",
       "\n",
       "       fl_site_limit  fr_site_limit   tiv_2011   tiv_2012  eq_site_deductible  \\\n",
       "17865            0.0            0.0   44665.57   36878.76                 0.0   \n",
       "34833         4374.0         4374.0    4374.00    6774.39                 0.0   \n",
       "1494        494802.0       494802.0  494802.00  559055.01                 0.0   \n",
       "7534             0.0            0.0   52032.55   75451.36                 0.0   \n",
       "34480            0.0            0.0  220993.74  314625.69                 0.0   \n",
       "...              ...            ...        ...        ...                 ...   \n",
       "35572        72084.6        72084.6   72084.60   73563.06                 0.0   \n",
       "6886             0.0            0.0  120360.03  154963.54                 0.0   \n",
       "8170             0.0        66150.0   66150.00   87957.27                 0.0   \n",
       "36261            0.0            0.0  530317.42  669759.08                 0.0   \n",
       "1674             0.0       208962.0  208962.00  232532.91                 0.0   \n",
       "\n",
       "       hu_site_deductible  fl_site_deductible  fr_site_deductible  \\\n",
       "17865                 0.0                 0.0                   0   \n",
       "34833                 0.0                 0.0                   0   \n",
       "1494                  0.0                 0.0                   0   \n",
       "7534                  0.0                 0.0                   0   \n",
       "34480                 0.0                 0.0                   0   \n",
       "...                   ...                 ...                 ...   \n",
       "35572                 0.0                 0.0                   0   \n",
       "6886                  0.0                 0.0                   0   \n",
       "8170                  0.0                 0.0                   0   \n",
       "36261                 0.0                 0.0                   0   \n",
       "1674              10448.1                 0.0                   0   \n",
       "\n",
       "       point_latitude  point_longitude         line construction  \\\n",
       "17865       26.244300       -80.267400  Residential         Wood   \n",
       "34833       28.835960       -82.344559  Residential         Wood   \n",
       "1494        30.140441       -81.523513  Residential      Masonry   \n",
       "7534        30.711832       -86.570244  Residential         Wood   \n",
       "34480       27.080140       -82.373480  Residential         Wood   \n",
       "...               ...              ...          ...          ...   \n",
       "35572       29.081600       -82.281650  Residential         Wood   \n",
       "6886        30.426400       -87.222900  Residential         Wood   \n",
       "8170        30.334494       -87.133621  Residential         Wood   \n",
       "36261       28.267729       -82.692047  Residential      Masonry   \n",
       "1674        29.212210       -81.071170  Residential         Wood   \n",
       "\n",
       "       point_granularity  \n",
       "17865                  3  \n",
       "34833                  1  \n",
       "1494                   4  \n",
       "7534                   1  \n",
       "34480                  1  \n",
       "...                  ...  \n",
       "35572                  3  \n",
       "6886                   4  \n",
       "8170                   1  \n",
       "36261                  1  \n",
       "1674                   1  \n",
       "\n",
       "[36634 rows x 18 columns]"
      ],
      "text/html": "<div>\n<style scoped>\n    .dataframe tbody tr th:only-of-type {\n        vertical-align: middle;\n    }\n\n    .dataframe tbody tr th {\n        vertical-align: top;\n    }\n\n    .dataframe thead th {\n        text-align: right;\n    }\n</style>\n<table border=\"1\" class=\"dataframe\">\n  <thead>\n    <tr style=\"text-align: right;\">\n      <th></th>\n      <th>policyID</th>\n      <th>statecode</th>\n      <th>county</th>\n      <th>eq_site_limit</th>\n      <th>hu_site_limit</th>\n      <th>fl_site_limit</th>\n      <th>fr_site_limit</th>\n      <th>tiv_2011</th>\n      <th>tiv_2012</th>\n      <th>eq_site_deductible</th>\n      <th>hu_site_deductible</th>\n      <th>fl_site_deductible</th>\n      <th>fr_site_deductible</th>\n      <th>point_latitude</th>\n      <th>point_longitude</th>\n      <th>line</th>\n      <th>construction</th>\n      <th>point_granularity</th>\n    </tr>\n  </thead>\n  <tbody>\n    <tr>\n      <th>17865</th>\n      <td>100074</td>\n      <td>FL</td>\n      <td>BROWARD COUNTY</td>\n      <td>0.0</td>\n      <td>44665.57</td>\n      <td>0.0</td>\n      <td>0.0</td>\n      <td>44665.57</td>\n      <td>36878.76</td>\n      <td>0.0</td>\n      <td>0.0</td>\n      <td>0.0</td>\n      <td>0</td>\n      <td>26.244300</td>\n      <td>-80.267400</td>\n      <td>Residential</td>\n      <td>Wood</td>\n      <td>3</td>\n    </tr>\n    <tr>\n      <th>34833</th>\n      <td>100123</td>\n      <td>FL</td>\n      <td>CITRUS COUNTY</td>\n      <td>4374.0</td>\n      <td>4374.00</td>\n      <td>4374.0</td>\n      <td>4374.0</td>\n      <td>4374.00</td>\n      <td>6774.39</td>\n      <td>0.0</td>\n      <td>0.0</td>\n      <td>0.0</td>\n      <td>0</td>\n      <td>28.835960</td>\n      <td>-82.344559</td>\n      <td>Residential</td>\n      <td>Wood</td>\n      <td>1</td>\n    </tr>\n    <tr>\n      <th>1494</th>\n      <td>100141</td>\n      <td>FL</td>\n      <td>DUVAL COUNTY</td>\n      <td>494802.0</td>\n      <td>494802.00</td>\n      <td>494802.0</td>\n      <td>494802.0</td>\n      <td>494802.00</td>\n      <td>559055.01</td>\n      <td>0.0</td>\n      <td>0.0</td>\n      <td>0.0</td>\n      <td>0</td>\n      <td>30.140441</td>\n      <td>-81.523513</td>\n      <td>Residential</td>\n      <td>Masonry</td>\n      <td>4</td>\n    </tr>\n    <tr>\n      <th>7534</th>\n      <td>100183</td>\n      <td>FL</td>\n      <td>OKALOOSA COUNTY</td>\n      <td>0.0</td>\n      <td>52032.55</td>\n      <td>0.0</td>\n      <td>0.0</td>\n      <td>52032.55</td>\n      <td>75451.36</td>\n      <td>0.0</td>\n      <td>0.0</td>\n      <td>0.0</td>\n      <td>0</td>\n      <td>30.711832</td>\n      <td>-86.570244</td>\n      <td>Residential</td>\n      <td>Wood</td>\n      <td>1</td>\n    </tr>\n    <tr>\n      <th>34480</th>\n      <td>100203</td>\n      <td>FL</td>\n      <td>SARASOTA COUNTY</td>\n      <td>0.0</td>\n      <td>220993.74</td>\n      <td>0.0</td>\n      <td>0.0</td>\n      <td>220993.74</td>\n      <td>314625.69</td>\n      <td>0.0</td>\n      <td>0.0</td>\n      <td>0.0</td>\n      <td>0</td>\n      <td>27.080140</td>\n      <td>-82.373480</td>\n      <td>Residential</td>\n      <td>Wood</td>\n      <td>1</td>\n    </tr>\n    <tr>\n      <th>...</th>\n      <td>...</td>\n      <td>...</td>\n      <td>...</td>\n      <td>...</td>\n      <td>...</td>\n      <td>...</td>\n      <td>...</td>\n      <td>...</td>\n      <td>...</td>\n      <td>...</td>\n      <td>...</td>\n      <td>...</td>\n      <td>...</td>\n      <td>...</td>\n      <td>...</td>\n      <td>...</td>\n      <td>...</td>\n      <td>...</td>\n    </tr>\n    <tr>\n      <th>35572</th>\n      <td>999908</td>\n      <td>FL</td>\n      <td>MARION COUNTY</td>\n      <td>72084.6</td>\n      <td>72084.60</td>\n      <td>72084.6</td>\n      <td>72084.6</td>\n      <td>72084.60</td>\n      <td>73563.06</td>\n      <td>0.0</td>\n      <td>0.0</td>\n      <td>0.0</td>\n      <td>0</td>\n      <td>29.081600</td>\n      <td>-82.281650</td>\n      <td>Residential</td>\n      <td>Wood</td>\n      <td>3</td>\n    </tr>\n    <tr>\n      <th>6886</th>\n      <td>999934</td>\n      <td>FL</td>\n      <td>ESCAMBIA COUNTY</td>\n      <td>0.0</td>\n      <td>120360.03</td>\n      <td>0.0</td>\n      <td>0.0</td>\n      <td>120360.03</td>\n      <td>154963.54</td>\n      <td>0.0</td>\n      <td>0.0</td>\n      <td>0.0</td>\n      <td>0</td>\n      <td>30.426400</td>\n      <td>-87.222900</td>\n      <td>Residential</td>\n      <td>Wood</td>\n      <td>4</td>\n    </tr>\n    <tr>\n      <th>8170</th>\n      <td>999959</td>\n      <td>FL</td>\n      <td>ESCAMBIA COUNTY</td>\n      <td>0.0</td>\n      <td>66150.00</td>\n      <td>0.0</td>\n      <td>66150.0</td>\n      <td>66150.00</td>\n      <td>87957.27</td>\n      <td>0.0</td>\n      <td>0.0</td>\n      <td>0.0</td>\n      <td>0</td>\n      <td>30.334494</td>\n      <td>-87.133621</td>\n      <td>Residential</td>\n      <td>Wood</td>\n      <td>1</td>\n    </tr>\n    <tr>\n      <th>36261</th>\n      <td>999970</td>\n      <td>FL</td>\n      <td>PASCO COUNTY</td>\n      <td>0.0</td>\n      <td>530317.42</td>\n      <td>0.0</td>\n      <td>0.0</td>\n      <td>530317.42</td>\n      <td>669759.08</td>\n      <td>0.0</td>\n      <td>0.0</td>\n      <td>0.0</td>\n      <td>0</td>\n      <td>28.267729</td>\n      <td>-82.692047</td>\n      <td>Residential</td>\n      <td>Masonry</td>\n      <td>1</td>\n    </tr>\n    <tr>\n      <th>1674</th>\n      <td>999971</td>\n      <td>FL</td>\n      <td>VOLUSIA COUNTY</td>\n      <td>0.0</td>\n      <td>208962.00</td>\n      <td>0.0</td>\n      <td>208962.0</td>\n      <td>208962.00</td>\n      <td>232532.91</td>\n      <td>0.0</td>\n      <td>10448.1</td>\n      <td>0.0</td>\n      <td>0</td>\n      <td>29.212210</td>\n      <td>-81.071170</td>\n      <td>Residential</td>\n      <td>Wood</td>\n      <td>1</td>\n    </tr>\n  </tbody>\n</table>\n<p>36634 rows × 18 columns</p>\n</div>"
     },
     "metadata": {},
     "execution_count": 12
    }
   ],
   "source": [
    "sortByPolId = df.sort_values(by='policyID')\n",
    "sortByPolId"
   ]
  },
  {
   "cell_type": "code",
   "execution_count": null,
   "metadata": {},
   "outputs": [],
   "source": []
  }
 ]
}