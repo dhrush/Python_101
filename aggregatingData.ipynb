{
 "metadata": {
  "language_info": {
   "codemirror_mode": {
    "name": "ipython",
    "version": 3
   },
   "file_extension": ".py",
   "mimetype": "text/x-python",
   "name": "python",
   "nbconvert_exporter": "python",
   "pygments_lexer": "ipython3",
   "version": "3.8.5-final"
  },
  "orig_nbformat": 2,
  "kernelspec": {
   "name": "python3",
   "display_name": "Python 3",
   "language": "python"
  }
 },
 "nbformat": 4,
 "nbformat_minor": 2,
 "cells": [
  {
   "cell_type": "code",
   "execution_count": 1,
   "metadata": {},
   "outputs": [
    {
     "output_type": "execute_result",
     "data": {
      "text/plain": [
       "  Item_Identifier  Item_Weight  ...        Outlet_Type  Item_Outlet_Sales\n",
       "0           FDA15        9.300  ...  Supermarket Type1          3735.1380\n",
       "1           DRC01        5.920  ...  Supermarket Type2           443.4228\n",
       "2           FDN15       17.500  ...  Supermarket Type1          2097.2700\n",
       "3           NCD19        8.930  ...  Supermarket Type1           994.7052\n",
       "4           FDP36       10.395  ...  Supermarket Type2           556.6088\n",
       "5           FDO10       13.650  ...  Supermarket Type1           343.5528\n",
       "\n",
       "[6 rows x 12 columns]"
      ],
      "text/html": "<div>\n<style scoped>\n    .dataframe tbody tr th:only-of-type {\n        vertical-align: middle;\n    }\n\n    .dataframe tbody tr th {\n        vertical-align: top;\n    }\n\n    .dataframe thead th {\n        text-align: right;\n    }\n</style>\n<table border=\"1\" class=\"dataframe\">\n  <thead>\n    <tr style=\"text-align: right;\">\n      <th></th>\n      <th>Item_Identifier</th>\n      <th>Item_Weight</th>\n      <th>Item_Fat_Content</th>\n      <th>Item_Visibility</th>\n      <th>Item_Type</th>\n      <th>Item_MRP</th>\n      <th>Outlet_Identifier</th>\n      <th>Outlet_Establishment_Year</th>\n      <th>Outlet_Size</th>\n      <th>Outlet_Location_Type</th>\n      <th>Outlet_Type</th>\n      <th>Item_Outlet_Sales</th>\n    </tr>\n  </thead>\n  <tbody>\n    <tr>\n      <th>0</th>\n      <td>FDA15</td>\n      <td>9.300</td>\n      <td>Low Fat</td>\n      <td>0.016047</td>\n      <td>Dairy</td>\n      <td>249.8092</td>\n      <td>OUT049</td>\n      <td>1999</td>\n      <td>Medium</td>\n      <td>Tier 1</td>\n      <td>Supermarket Type1</td>\n      <td>3735.1380</td>\n    </tr>\n    <tr>\n      <th>1</th>\n      <td>DRC01</td>\n      <td>5.920</td>\n      <td>Regular</td>\n      <td>0.019278</td>\n      <td>Soft Drinks</td>\n      <td>48.2692</td>\n      <td>OUT018</td>\n      <td>2009</td>\n      <td>Medium</td>\n      <td>Tier 3</td>\n      <td>Supermarket Type2</td>\n      <td>443.4228</td>\n    </tr>\n    <tr>\n      <th>2</th>\n      <td>FDN15</td>\n      <td>17.500</td>\n      <td>Low Fat</td>\n      <td>0.016760</td>\n      <td>Meat</td>\n      <td>141.6180</td>\n      <td>OUT049</td>\n      <td>1999</td>\n      <td>Medium</td>\n      <td>Tier 1</td>\n      <td>Supermarket Type1</td>\n      <td>2097.2700</td>\n    </tr>\n    <tr>\n      <th>3</th>\n      <td>NCD19</td>\n      <td>8.930</td>\n      <td>Low Fat</td>\n      <td>0.000000</td>\n      <td>Household</td>\n      <td>53.8614</td>\n      <td>OUT013</td>\n      <td>1987</td>\n      <td>High</td>\n      <td>Tier 3</td>\n      <td>Supermarket Type1</td>\n      <td>994.7052</td>\n    </tr>\n    <tr>\n      <th>4</th>\n      <td>FDP36</td>\n      <td>10.395</td>\n      <td>Regular</td>\n      <td>0.000000</td>\n      <td>Baking Goods</td>\n      <td>51.4008</td>\n      <td>OUT018</td>\n      <td>2009</td>\n      <td>Medium</td>\n      <td>Tier 3</td>\n      <td>Supermarket Type2</td>\n      <td>556.6088</td>\n    </tr>\n    <tr>\n      <th>5</th>\n      <td>FDO10</td>\n      <td>13.650</td>\n      <td>Regular</td>\n      <td>0.012741</td>\n      <td>Snack Foods</td>\n      <td>57.6588</td>\n      <td>OUT013</td>\n      <td>1987</td>\n      <td>High</td>\n      <td>Tier 3</td>\n      <td>Supermarket Type1</td>\n      <td>343.5528</td>\n    </tr>\n  </tbody>\n</table>\n</div>"
     },
     "metadata": {},
     "execution_count": 1
    }
   ],
   "source": [
    "import pandas as pd \n",
    "import numpy as np\n",
    "df = pd.read_csv('dataset.csv')\n",
    "#drop null values\n",
    "df = df.dropna(how='any')\n",
    "#reset index after dropping\n",
    "df = df.reset_index(drop=True)\n",
    "df[:6]"
   ]
  },
  {
   "cell_type": "code",
   "execution_count": 2,
   "metadata": {},
   "outputs": [
    {
     "output_type": "execute_result",
     "data": {
      "text/plain": [
       "Index(['Item_Identifier', 'Item_Weight', 'Item_Fat_Content', 'Item_Visibility',\n",
       "       'Item_Type', 'Item_MRP', 'Outlet_Identifier',\n",
       "       'Outlet_Establishment_Year', 'Outlet_Size', 'Outlet_Location_Type',\n",
       "       'Outlet_Type', 'Item_Outlet_Sales'],\n",
       "      dtype='object')"
      ]
     },
     "metadata": {},
     "execution_count": 2
    }
   ],
   "source": [
    "df.columns"
   ]
  },
  {
   "cell_type": "code",
   "execution_count": 3,
   "metadata": {},
   "outputs": [
    {
     "output_type": "execute_result",
     "data": {
      "text/plain": [
       "                      Item_Identifier  ...  Item_Outlet_Sales\n",
       "Item_Type                              ...                   \n",
       "Baking Goods                    FDP36  ...           556.6088\n",
       "Breads                          FDW11  ...           619.1940\n",
       "Breakfast                       FDP49  ...          1547.3192\n",
       "Canned                          FDC02  ...          6768.5228\n",
       "Dairy                           FDA15  ...          3735.1380\n",
       "Frozen Foods                    FDR28  ...          4078.0250\n",
       "Fruits and Vegetables           FDY07  ...          1516.0266\n",
       "Hard Drinks                     DRJ59  ...           308.9312\n",
       "Health and Hygiene              NCB42  ...          1621.8888\n",
       "Household                       NCD19  ...           994.7052\n",
       "Meat                            FDN15  ...          2097.2700\n",
       "Others                          NCM43  ...          2120.5730\n",
       "Seafood                         FDH21  ...          1267.6832\n",
       "Snack Foods                     FDO10  ...           343.5528\n",
       "Soft Drinks                     DRC01  ...           443.4228\n",
       "Starchy Foods                   FDB11  ...          6301.1312\n",
       "\n",
       "[16 rows x 11 columns]"
      ],
      "text/html": "<div>\n<style scoped>\n    .dataframe tbody tr th:only-of-type {\n        vertical-align: middle;\n    }\n\n    .dataframe tbody tr th {\n        vertical-align: top;\n    }\n\n    .dataframe thead th {\n        text-align: right;\n    }\n</style>\n<table border=\"1\" class=\"dataframe\">\n  <thead>\n    <tr style=\"text-align: right;\">\n      <th></th>\n      <th>Item_Identifier</th>\n      <th>Item_Weight</th>\n      <th>Item_Fat_Content</th>\n      <th>Item_Visibility</th>\n      <th>Item_MRP</th>\n      <th>Outlet_Identifier</th>\n      <th>Outlet_Establishment_Year</th>\n      <th>Outlet_Size</th>\n      <th>Outlet_Location_Type</th>\n      <th>Outlet_Type</th>\n      <th>Item_Outlet_Sales</th>\n    </tr>\n    <tr>\n      <th>Item_Type</th>\n      <th></th>\n      <th></th>\n      <th></th>\n      <th></th>\n      <th></th>\n      <th></th>\n      <th></th>\n      <th></th>\n      <th></th>\n      <th></th>\n      <th></th>\n    </tr>\n  </thead>\n  <tbody>\n    <tr>\n      <th>Baking Goods</th>\n      <td>FDP36</td>\n      <td>10.395</td>\n      <td>Regular</td>\n      <td>0.000000</td>\n      <td>51.4008</td>\n      <td>OUT018</td>\n      <td>2009</td>\n      <td>Medium</td>\n      <td>Tier 3</td>\n      <td>Supermarket Type2</td>\n      <td>556.6088</td>\n    </tr>\n    <tr>\n      <th>Breads</th>\n      <td>FDW11</td>\n      <td>12.600</td>\n      <td>Low Fat</td>\n      <td>0.048981</td>\n      <td>61.9194</td>\n      <td>OUT018</td>\n      <td>2009</td>\n      <td>Medium</td>\n      <td>Tier 3</td>\n      <td>Supermarket Type2</td>\n      <td>619.1940</td>\n    </tr>\n    <tr>\n      <th>Breakfast</th>\n      <td>FDP49</td>\n      <td>9.000</td>\n      <td>Regular</td>\n      <td>0.069089</td>\n      <td>56.3614</td>\n      <td>OUT046</td>\n      <td>1997</td>\n      <td>Small</td>\n      <td>Tier 1</td>\n      <td>Supermarket Type1</td>\n      <td>1547.3192</td>\n    </tr>\n    <tr>\n      <th>Canned</th>\n      <td>FDC02</td>\n      <td>21.350</td>\n      <td>Low Fat</td>\n      <td>0.069103</td>\n      <td>259.9278</td>\n      <td>OUT018</td>\n      <td>2009</td>\n      <td>Medium</td>\n      <td>Tier 3</td>\n      <td>Supermarket Type2</td>\n      <td>6768.5228</td>\n    </tr>\n    <tr>\n      <th>Dairy</th>\n      <td>FDA15</td>\n      <td>9.300</td>\n      <td>Low Fat</td>\n      <td>0.016047</td>\n      <td>249.8092</td>\n      <td>OUT049</td>\n      <td>1999</td>\n      <td>Medium</td>\n      <td>Tier 1</td>\n      <td>Supermarket Type1</td>\n      <td>3735.1380</td>\n    </tr>\n    <tr>\n      <th>Frozen Foods</th>\n      <td>FDR28</td>\n      <td>13.850</td>\n      <td>Regular</td>\n      <td>0.025896</td>\n      <td>165.0210</td>\n      <td>OUT046</td>\n      <td>1997</td>\n      <td>Small</td>\n      <td>Tier 1</td>\n      <td>Supermarket Type1</td>\n      <td>4078.0250</td>\n    </tr>\n    <tr>\n      <th>Fruits and Vegetables</th>\n      <td>FDY07</td>\n      <td>11.800</td>\n      <td>Low Fat</td>\n      <td>0.000000</td>\n      <td>45.5402</td>\n      <td>OUT049</td>\n      <td>1999</td>\n      <td>Medium</td>\n      <td>Tier 1</td>\n      <td>Supermarket Type1</td>\n      <td>1516.0266</td>\n    </tr>\n    <tr>\n      <th>Hard Drinks</th>\n      <td>DRJ59</td>\n      <td>11.650</td>\n      <td>low fat</td>\n      <td>0.019356</td>\n      <td>39.1164</td>\n      <td>OUT013</td>\n      <td>1987</td>\n      <td>High</td>\n      <td>Tier 3</td>\n      <td>Supermarket Type1</td>\n      <td>308.9312</td>\n    </tr>\n    <tr>\n      <th>Health and Hygiene</th>\n      <td>NCB42</td>\n      <td>11.800</td>\n      <td>Low Fat</td>\n      <td>0.008596</td>\n      <td>115.3492</td>\n      <td>OUT018</td>\n      <td>2009</td>\n      <td>Medium</td>\n      <td>Tier 3</td>\n      <td>Supermarket Type2</td>\n      <td>1621.8888</td>\n    </tr>\n    <tr>\n      <th>Household</th>\n      <td>NCD19</td>\n      <td>8.930</td>\n      <td>Low Fat</td>\n      <td>0.000000</td>\n      <td>53.8614</td>\n      <td>OUT013</td>\n      <td>1987</td>\n      <td>High</td>\n      <td>Tier 3</td>\n      <td>Supermarket Type1</td>\n      <td>994.7052</td>\n    </tr>\n    <tr>\n      <th>Meat</th>\n      <td>FDN15</td>\n      <td>17.500</td>\n      <td>Low Fat</td>\n      <td>0.016760</td>\n      <td>141.6180</td>\n      <td>OUT049</td>\n      <td>1999</td>\n      <td>Medium</td>\n      <td>Tier 1</td>\n      <td>Supermarket Type1</td>\n      <td>2097.2700</td>\n    </tr>\n    <tr>\n      <th>Others</th>\n      <td>NCM43</td>\n      <td>14.500</td>\n      <td>Low Fat</td>\n      <td>0.019472</td>\n      <td>164.8210</td>\n      <td>OUT035</td>\n      <td>2004</td>\n      <td>Small</td>\n      <td>Tier 2</td>\n      <td>Supermarket Type1</td>\n      <td>2120.5730</td>\n    </tr>\n    <tr>\n      <th>Seafood</th>\n      <td>FDH21</td>\n      <td>10.395</td>\n      <td>Low Fat</td>\n      <td>0.031274</td>\n      <td>160.0604</td>\n      <td>OUT049</td>\n      <td>1999</td>\n      <td>Medium</td>\n      <td>Tier 1</td>\n      <td>Supermarket Type1</td>\n      <td>1267.6832</td>\n    </tr>\n    <tr>\n      <th>Snack Foods</th>\n      <td>FDO10</td>\n      <td>13.650</td>\n      <td>Regular</td>\n      <td>0.012741</td>\n      <td>57.6588</td>\n      <td>OUT013</td>\n      <td>1987</td>\n      <td>High</td>\n      <td>Tier 3</td>\n      <td>Supermarket Type1</td>\n      <td>343.5528</td>\n    </tr>\n    <tr>\n      <th>Soft Drinks</th>\n      <td>DRC01</td>\n      <td>5.920</td>\n      <td>Regular</td>\n      <td>0.019278</td>\n      <td>48.2692</td>\n      <td>OUT018</td>\n      <td>2009</td>\n      <td>Medium</td>\n      <td>Tier 3</td>\n      <td>Supermarket Type2</td>\n      <td>443.4228</td>\n    </tr>\n    <tr>\n      <th>Starchy Foods</th>\n      <td>FDB11</td>\n      <td>16.000</td>\n      <td>Low Fat</td>\n      <td>0.060837</td>\n      <td>226.8404</td>\n      <td>OUT035</td>\n      <td>2004</td>\n      <td>Small</td>\n      <td>Tier 2</td>\n      <td>Supermarket Type1</td>\n      <td>6301.1312</td>\n    </tr>\n  </tbody>\n</table>\n</div>"
     },
     "metadata": {},
     "execution_count": 3
    }
   ],
   "source": [
    "priceByItem = df.groupby('Item_Type')\n",
    "priceByItem.first()"
   ]
  },
  {
   "cell_type": "code",
   "execution_count": null,
   "metadata": {},
   "outputs": [],
   "source": []
  }
 ]
}