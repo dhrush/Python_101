{
 "metadata": {
  "language_info": {
   "codemirror_mode": {
    "name": "ipython",
    "version": 3
   },
   "file_extension": ".py",
   "mimetype": "text/x-python",
   "name": "python",
   "nbconvert_exporter": "python",
   "pygments_lexer": "ipython3",
   "version": "3.8.5-final"
  },
  "orig_nbformat": 2,
  "kernelspec": {
   "name": "python3",
   "display_name": "Python 3",
   "language": "python"
  }
 },
 "nbformat": 4,
 "nbformat_minor": 2,
 "cells": [
  {
   "cell_type": "code",
   "execution_count": 7,
   "metadata": {},
   "outputs": [
    {
     "output_type": "execute_result",
     "data": {
      "text/plain": [
       "'org'"
      ]
     },
     "metadata": {},
     "execution_count": 7
    }
   ],
   "source": [
    "#list in python\n",
    "list1 = ['1', '2', '3', '4']\n",
    "list1[0]\n",
    "\n",
    "list2 = [0, 'id', 1, 'name', 2, 'org']\n",
    "list2[0:4]\n",
    "#prints from [0] to (4)\n",
    "\n",
    "#extract last element\n",
    "list2[-1]"
   ]
  },
  {
   "cell_type": "code",
   "execution_count": 11,
   "metadata": {},
   "outputs": [
    {
     "output_type": "execute_result",
     "data": {
      "text/plain": [
       "[0,\n",
       " 'id',\n",
       " 1,\n",
       " 'name',\n",
       " 2,\n",
       " 'org',\n",
       " 3,\n",
       " 3,\n",
       " 'mobile',\n",
       " 4,\n",
       " 'pincode',\n",
       " 3,\n",
       " 'mobile',\n",
       " 4,\n",
       " 'pincode']"
      ]
     },
     "metadata": {},
     "execution_count": 11
    }
   ],
   "source": [
    "#to add single element to list use .append(val) goes at the end of list\n",
    "list2.append(3)\n",
    "list2\n",
    "\n",
    "#to add multiple elements to list use .extend([val]) goes at the end of list\n",
    "list2.extend(['mobile', 4, 'pincode'])\n",
    "list2"
   ]
  },
  {
   "cell_type": "code",
   "execution_count": 21,
   "metadata": {},
   "outputs": [
    {
     "output_type": "execute_result",
     "data": {
      "text/plain": [
       "[1, 2, 3, 4, 5]"
      ]
     },
     "metadata": {},
     "execution_count": 21
    }
   ],
   "source": [
    "list_x = [1,2,3,4,5]\n",
    "list_x"
   ]
  },
  {
   "cell_type": "code",
   "execution_count": 26,
   "metadata": {},
   "outputs": [
    {
     "output_type": "stream",
     "name": "stdout",
     "text": [
      "[0, 'python', 1, 2, 'an', 3, 4, 'source', 5, 'language']\n[0, 'python', 1, 2, 'an', 3, 4, 'source', 5, 'language']\n[0, 'python', 1, 2, 'an', 3, 4, 'source', 5, 'language']\n"
     ]
    }
   ],
   "source": [
    "a_list = [0, 'python', 1, 'is', 2, 'an', 3, 'open', 4, 'source', 5, 'language']\n",
    "b_list = a_list\n",
    "c_list = a_list\n",
    "b_list.remove('is')\n",
    "del c_list[6]\n",
    "\n",
    "print(a_list)\n",
    "print(b_list)\n",
    "print(c_list)"
   ]
  },
  {
   "cell_type": "code",
   "execution_count": null,
   "metadata": {},
   "outputs": [],
   "source": []
  }
 ]
}