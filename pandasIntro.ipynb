{
 "metadata": {
  "language_info": {
   "codemirror_mode": {
    "name": "ipython",
    "version": 3
   },
   "file_extension": ".py",
   "mimetype": "text/x-python",
   "name": "python",
   "nbconvert_exporter": "python",
   "pygments_lexer": "ipython3",
   "version": "3.8.5-final"
  },
  "orig_nbformat": 2,
  "kernelspec": {
   "name": "python3",
   "display_name": "Python 3",
   "language": "python"
  }
 },
 "nbformat": 4,
 "nbformat_minor": 2,
 "cells": [
  {
   "cell_type": "code",
   "execution_count": 6,
   "metadata": {},
   "outputs": [],
   "source": [
    "#pandas support various formats csv excel json\n",
    "import pandas as pd"
   ]
  },
  {
   "cell_type": "code",
   "execution_count": 7,
   "metadata": {},
   "outputs": [],
   "source": [
    "df = pd.read_csv('data.csv')\n"
   ]
  },
  {
   "cell_type": "code",
   "execution_count": 8,
   "metadata": {},
   "outputs": [
    {
     "output_type": "execute_result",
     "data": {
      "text/plain": [
       "   policyID statecode       county  eq_site_limit  hu_site_limit  \\\n",
       "0    119736        FL  CLAY COUNTY       498960.0      498960.00   \n",
       "1    448094        FL  CLAY COUNTY      1322376.3     1322376.30   \n",
       "2    206893        FL  CLAY COUNTY       190724.4      190724.40   \n",
       "3    333743        FL  CLAY COUNTY            0.0       79520.76   \n",
       "4    172534        FL  CLAY COUNTY            0.0      254281.50   \n",
       "\n",
       "   fl_site_limit  fr_site_limit    tiv_2011    tiv_2012  eq_site_deductible  \\\n",
       "0       498960.0       498960.0   498960.00   792148.90                 0.0   \n",
       "1      1322376.3      1322376.3  1322376.30  1438163.57                 0.0   \n",
       "2       190724.4       190724.4   190724.40   192476.78                 0.0   \n",
       "3            0.0            0.0    79520.76    86854.48                 0.0   \n",
       "4            0.0       254281.5   254281.50   246144.49                 0.0   \n",
       "\n",
       "   hu_site_deductible  fl_site_deductible  fr_site_deductible  point_latitude  \\\n",
       "0              9979.2                 0.0                   0       30.102261   \n",
       "1                 0.0                 0.0                   0       30.063936   \n",
       "2                 0.0                 0.0                   0       30.089579   \n",
       "3                 0.0                 0.0                   0       30.063236   \n",
       "4                 0.0                 0.0                   0       30.060614   \n",
       "\n",
       "   point_longitude         line construction  point_granularity  \n",
       "0       -81.711777  Residential      Masonry                  1  \n",
       "1       -81.707664  Residential      Masonry                  3  \n",
       "2       -81.700455  Residential         Wood                  1  \n",
       "3       -81.707703  Residential         Wood                  3  \n",
       "4       -81.702675  Residential         Wood                  1  "
      ],
      "text/html": "<div>\n<style scoped>\n    .dataframe tbody tr th:only-of-type {\n        vertical-align: middle;\n    }\n\n    .dataframe tbody tr th {\n        vertical-align: top;\n    }\n\n    .dataframe thead th {\n        text-align: right;\n    }\n</style>\n<table border=\"1\" class=\"dataframe\">\n  <thead>\n    <tr style=\"text-align: right;\">\n      <th></th>\n      <th>policyID</th>\n      <th>statecode</th>\n      <th>county</th>\n      <th>eq_site_limit</th>\n      <th>hu_site_limit</th>\n      <th>fl_site_limit</th>\n      <th>fr_site_limit</th>\n      <th>tiv_2011</th>\n      <th>tiv_2012</th>\n      <th>eq_site_deductible</th>\n      <th>hu_site_deductible</th>\n      <th>fl_site_deductible</th>\n      <th>fr_site_deductible</th>\n      <th>point_latitude</th>\n      <th>point_longitude</th>\n      <th>line</th>\n      <th>construction</th>\n      <th>point_granularity</th>\n    </tr>\n  </thead>\n  <tbody>\n    <tr>\n      <th>0</th>\n      <td>119736</td>\n      <td>FL</td>\n      <td>CLAY COUNTY</td>\n      <td>498960.0</td>\n      <td>498960.00</td>\n      <td>498960.0</td>\n      <td>498960.0</td>\n      <td>498960.00</td>\n      <td>792148.90</td>\n      <td>0.0</td>\n      <td>9979.2</td>\n      <td>0.0</td>\n      <td>0</td>\n      <td>30.102261</td>\n      <td>-81.711777</td>\n      <td>Residential</td>\n      <td>Masonry</td>\n      <td>1</td>\n    </tr>\n    <tr>\n      <th>1</th>\n      <td>448094</td>\n      <td>FL</td>\n      <td>CLAY COUNTY</td>\n      <td>1322376.3</td>\n      <td>1322376.30</td>\n      <td>1322376.3</td>\n      <td>1322376.3</td>\n      <td>1322376.30</td>\n      <td>1438163.57</td>\n      <td>0.0</td>\n      <td>0.0</td>\n      <td>0.0</td>\n      <td>0</td>\n      <td>30.063936</td>\n      <td>-81.707664</td>\n      <td>Residential</td>\n      <td>Masonry</td>\n      <td>3</td>\n    </tr>\n    <tr>\n      <th>2</th>\n      <td>206893</td>\n      <td>FL</td>\n      <td>CLAY COUNTY</td>\n      <td>190724.4</td>\n      <td>190724.40</td>\n      <td>190724.4</td>\n      <td>190724.4</td>\n      <td>190724.40</td>\n      <td>192476.78</td>\n      <td>0.0</td>\n      <td>0.0</td>\n      <td>0.0</td>\n      <td>0</td>\n      <td>30.089579</td>\n      <td>-81.700455</td>\n      <td>Residential</td>\n      <td>Wood</td>\n      <td>1</td>\n    </tr>\n    <tr>\n      <th>3</th>\n      <td>333743</td>\n      <td>FL</td>\n      <td>CLAY COUNTY</td>\n      <td>0.0</td>\n      <td>79520.76</td>\n      <td>0.0</td>\n      <td>0.0</td>\n      <td>79520.76</td>\n      <td>86854.48</td>\n      <td>0.0</td>\n      <td>0.0</td>\n      <td>0.0</td>\n      <td>0</td>\n      <td>30.063236</td>\n      <td>-81.707703</td>\n      <td>Residential</td>\n      <td>Wood</td>\n      <td>3</td>\n    </tr>\n    <tr>\n      <th>4</th>\n      <td>172534</td>\n      <td>FL</td>\n      <td>CLAY COUNTY</td>\n      <td>0.0</td>\n      <td>254281.50</td>\n      <td>0.0</td>\n      <td>254281.5</td>\n      <td>254281.50</td>\n      <td>246144.49</td>\n      <td>0.0</td>\n      <td>0.0</td>\n      <td>0.0</td>\n      <td>0</td>\n      <td>30.060614</td>\n      <td>-81.702675</td>\n      <td>Residential</td>\n      <td>Wood</td>\n      <td>1</td>\n    </tr>\n  </tbody>\n</table>\n</div>"
     },
     "metadata": {},
     "execution_count": 8
    }
   ],
   "source": [
    "df.head()"
   ]
  },
  {
   "cell_type": "code",
   "execution_count": 10,
   "metadata": {},
   "outputs": [
    {
     "output_type": "execute_result",
     "data": {
      "text/plain": [
       "0        119736\n",
       "1        448094\n",
       "2        206893\n",
       "3        333743\n",
       "4        172534\n",
       "          ...  \n",
       "36629    404309\n",
       "36630    465875\n",
       "36631    791209\n",
       "36632    322627\n",
       "36633    398149\n",
       "Name: policyID, Length: 36634, dtype: int64"
      ]
     },
     "metadata": {},
     "execution_count": 10
    }
   ],
   "source": [
    "df['policyID']"
   ]
  },
  {
   "cell_type": "code",
   "execution_count": 12,
   "metadata": {},
   "outputs": [
    {
     "output_type": "execute_result",
     "data": {
      "text/plain": [
       "       policyID statecode           county  eq_site_limit  hu_site_limit  \\\n",
       "36628    780814        FL  PINELLAS COUNTY            0.0         9770.4   \n",
       "36629    404309        FL  PINELLAS COUNTY            0.0        88722.0   \n",
       "36630    465875        FL  PINELLAS COUNTY      1297057.5      1297057.5   \n",
       "36631    791209        FL  PINELLAS COUNTY       173286.9       173286.9   \n",
       "36632    322627        FL  PINELLAS COUNTY      1499781.6      1499781.6   \n",
       "36633    398149        FL  PINELLAS COUNTY       373488.3       373488.3   \n",
       "\n",
       "       fl_site_limit  fr_site_limit   tiv_2011    tiv_2012  \\\n",
       "36628            0.0         9770.4     9770.4     9349.98   \n",
       "36629            0.0        88722.0    88722.0   155065.65   \n",
       "36630      1297057.5      1297057.5  1297057.5  1577500.79   \n",
       "36631            0.0            0.0   173286.9   205527.97   \n",
       "36632            0.0            0.0  1499781.6  1768782.43   \n",
       "36633            0.0            0.0   373488.3   596003.67   \n",
       "\n",
       "       eq_site_deductible  hu_site_deductible  fl_site_deductible  \\\n",
       "36628                 0.0                 0.0                 0.0   \n",
       "36629                 0.0                 0.0                 0.0   \n",
       "36630                 0.0                 0.0                 0.0   \n",
       "36631                 0.0                 0.0                 0.0   \n",
       "36632                 0.0                 0.0                 0.0   \n",
       "36633                 0.0                 0.0                 0.0   \n",
       "\n",
       "       fr_site_deductible  point_latitude  point_longitude         line  \\\n",
       "36628                   0       28.122885       -82.770218  Residential   \n",
       "36629                   0       28.122885       -82.770218  Residential   \n",
       "36630                   0       28.080900       -82.758800  Residential   \n",
       "36631                   0       28.110550       -82.766360  Residential   \n",
       "36632                   0       28.089415       -82.697411  Residential   \n",
       "36633                   0       28.064440       -82.774590  Residential   \n",
       "\n",
       "      construction  point_granularity  \n",
       "36628         Wood                  3  \n",
       "36629         Wood                  3  \n",
       "36630      Masonry                  1  \n",
       "36631         Wood                  4  \n",
       "36632      Masonry                  3  \n",
       "36633      Masonry                  1  "
      ],
      "text/html": "<div>\n<style scoped>\n    .dataframe tbody tr th:only-of-type {\n        vertical-align: middle;\n    }\n\n    .dataframe tbody tr th {\n        vertical-align: top;\n    }\n\n    .dataframe thead th {\n        text-align: right;\n    }\n</style>\n<table border=\"1\" class=\"dataframe\">\n  <thead>\n    <tr style=\"text-align: right;\">\n      <th></th>\n      <th>policyID</th>\n      <th>statecode</th>\n      <th>county</th>\n      <th>eq_site_limit</th>\n      <th>hu_site_limit</th>\n      <th>fl_site_limit</th>\n      <th>fr_site_limit</th>\n      <th>tiv_2011</th>\n      <th>tiv_2012</th>\n      <th>eq_site_deductible</th>\n      <th>hu_site_deductible</th>\n      <th>fl_site_deductible</th>\n      <th>fr_site_deductible</th>\n      <th>point_latitude</th>\n      <th>point_longitude</th>\n      <th>line</th>\n      <th>construction</th>\n      <th>point_granularity</th>\n    </tr>\n  </thead>\n  <tbody>\n    <tr>\n      <th>36628</th>\n      <td>780814</td>\n      <td>FL</td>\n      <td>PINELLAS COUNTY</td>\n      <td>0.0</td>\n      <td>9770.4</td>\n      <td>0.0</td>\n      <td>9770.4</td>\n      <td>9770.4</td>\n      <td>9349.98</td>\n      <td>0.0</td>\n      <td>0.0</td>\n      <td>0.0</td>\n      <td>0</td>\n      <td>28.122885</td>\n      <td>-82.770218</td>\n      <td>Residential</td>\n      <td>Wood</td>\n      <td>3</td>\n    </tr>\n    <tr>\n      <th>36629</th>\n      <td>404309</td>\n      <td>FL</td>\n      <td>PINELLAS COUNTY</td>\n      <td>0.0</td>\n      <td>88722.0</td>\n      <td>0.0</td>\n      <td>88722.0</td>\n      <td>88722.0</td>\n      <td>155065.65</td>\n      <td>0.0</td>\n      <td>0.0</td>\n      <td>0.0</td>\n      <td>0</td>\n      <td>28.122885</td>\n      <td>-82.770218</td>\n      <td>Residential</td>\n      <td>Wood</td>\n      <td>3</td>\n    </tr>\n    <tr>\n      <th>36630</th>\n      <td>465875</td>\n      <td>FL</td>\n      <td>PINELLAS COUNTY</td>\n      <td>1297057.5</td>\n      <td>1297057.5</td>\n      <td>1297057.5</td>\n      <td>1297057.5</td>\n      <td>1297057.5</td>\n      <td>1577500.79</td>\n      <td>0.0</td>\n      <td>0.0</td>\n      <td>0.0</td>\n      <td>0</td>\n      <td>28.080900</td>\n      <td>-82.758800</td>\n      <td>Residential</td>\n      <td>Masonry</td>\n      <td>1</td>\n    </tr>\n    <tr>\n      <th>36631</th>\n      <td>791209</td>\n      <td>FL</td>\n      <td>PINELLAS COUNTY</td>\n      <td>173286.9</td>\n      <td>173286.9</td>\n      <td>0.0</td>\n      <td>0.0</td>\n      <td>173286.9</td>\n      <td>205527.97</td>\n      <td>0.0</td>\n      <td>0.0</td>\n      <td>0.0</td>\n      <td>0</td>\n      <td>28.110550</td>\n      <td>-82.766360</td>\n      <td>Residential</td>\n      <td>Wood</td>\n      <td>4</td>\n    </tr>\n    <tr>\n      <th>36632</th>\n      <td>322627</td>\n      <td>FL</td>\n      <td>PINELLAS COUNTY</td>\n      <td>1499781.6</td>\n      <td>1499781.6</td>\n      <td>0.0</td>\n      <td>0.0</td>\n      <td>1499781.6</td>\n      <td>1768782.43</td>\n      <td>0.0</td>\n      <td>0.0</td>\n      <td>0.0</td>\n      <td>0</td>\n      <td>28.089415</td>\n      <td>-82.697411</td>\n      <td>Residential</td>\n      <td>Masonry</td>\n      <td>3</td>\n    </tr>\n    <tr>\n      <th>36633</th>\n      <td>398149</td>\n      <td>FL</td>\n      <td>PINELLAS COUNTY</td>\n      <td>373488.3</td>\n      <td>373488.3</td>\n      <td>0.0</td>\n      <td>0.0</td>\n      <td>373488.3</td>\n      <td>596003.67</td>\n      <td>0.0</td>\n      <td>0.0</td>\n      <td>0.0</td>\n      <td>0</td>\n      <td>28.064440</td>\n      <td>-82.774590</td>\n      <td>Residential</td>\n      <td>Masonry</td>\n      <td>1</td>\n    </tr>\n  </tbody>\n</table>\n</div>"
     },
     "metadata": {},
     "execution_count": 12
    }
   ],
   "source": [
    "df.tail(6)"
   ]
  },
  {
   "cell_type": "code",
   "execution_count": 13,
   "metadata": {},
   "outputs": [
    {
     "output_type": "execute_result",
     "data": {
      "text/plain": [
       "(36634, 18)"
      ]
     },
     "metadata": {},
     "execution_count": 13
    }
   ],
   "source": [
    "df.shape"
   ]
  },
  {
   "cell_type": "code",
   "execution_count": 14,
   "metadata": {},
   "outputs": [
    {
     "output_type": "execute_result",
     "data": {
      "text/plain": [
       "659412"
      ]
     },
     "metadata": {},
     "execution_count": 14
    }
   ],
   "source": [
    "df.size"
   ]
  },
  {
   "cell_type": "code",
   "execution_count": 15,
   "metadata": {},
   "outputs": [
    {
     "output_type": "execute_result",
     "data": {
      "text/plain": [
       "2"
      ]
     },
     "metadata": {},
     "execution_count": 15
    }
   ],
   "source": [
    "df.ndim"
   ]
  },
  {
   "cell_type": "code",
   "execution_count": 17,
   "metadata": {},
   "outputs": [
    {
     "output_type": "execute_result",
     "data": {
      "text/plain": [
       "36634"
      ]
     },
     "metadata": {},
     "execution_count": 17
    }
   ],
   "source": [
    "df.shape[0]"
   ]
  },
  {
   "cell_type": "code",
   "execution_count": 20,
   "metadata": {},
   "outputs": [
    {
     "output_type": "execute_result",
     "data": {
      "text/plain": [
       "       eq_site_limit  hu_site_deductible\n",
       "0           498960.0              9979.2\n",
       "1          1322376.3                 0.0\n",
       "2           190724.4                 0.0\n",
       "3                0.0                 0.0\n",
       "4                0.0                 0.0\n",
       "...              ...                 ...\n",
       "36629            0.0                 0.0\n",
       "36630      1297057.5                 0.0\n",
       "36631       173286.9                 0.0\n",
       "36632      1499781.6                 0.0\n",
       "36633       373488.3                 0.0\n",
       "\n",
       "[36634 rows x 2 columns]"
      ],
      "text/html": "<div>\n<style scoped>\n    .dataframe tbody tr th:only-of-type {\n        vertical-align: middle;\n    }\n\n    .dataframe tbody tr th {\n        vertical-align: top;\n    }\n\n    .dataframe thead th {\n        text-align: right;\n    }\n</style>\n<table border=\"1\" class=\"dataframe\">\n  <thead>\n    <tr style=\"text-align: right;\">\n      <th></th>\n      <th>eq_site_limit</th>\n      <th>hu_site_deductible</th>\n    </tr>\n  </thead>\n  <tbody>\n    <tr>\n      <th>0</th>\n      <td>498960.0</td>\n      <td>9979.2</td>\n    </tr>\n    <tr>\n      <th>1</th>\n      <td>1322376.3</td>\n      <td>0.0</td>\n    </tr>\n    <tr>\n      <th>2</th>\n      <td>190724.4</td>\n      <td>0.0</td>\n    </tr>\n    <tr>\n      <th>3</th>\n      <td>0.0</td>\n      <td>0.0</td>\n    </tr>\n    <tr>\n      <th>4</th>\n      <td>0.0</td>\n      <td>0.0</td>\n    </tr>\n    <tr>\n      <th>...</th>\n      <td>...</td>\n      <td>...</td>\n    </tr>\n    <tr>\n      <th>36629</th>\n      <td>0.0</td>\n      <td>0.0</td>\n    </tr>\n    <tr>\n      <th>36630</th>\n      <td>1297057.5</td>\n      <td>0.0</td>\n    </tr>\n    <tr>\n      <th>36631</th>\n      <td>173286.9</td>\n      <td>0.0</td>\n    </tr>\n    <tr>\n      <th>36632</th>\n      <td>1499781.6</td>\n      <td>0.0</td>\n    </tr>\n    <tr>\n      <th>36633</th>\n      <td>373488.3</td>\n      <td>0.0</td>\n    </tr>\n  </tbody>\n</table>\n<p>36634 rows × 2 columns</p>\n</div>"
     },
     "metadata": {},
     "execution_count": 20
    }
   ],
   "source": [
    "df[['eq_site_limit', 'hu_site_deductible']]"
   ]
  },
  {
   "cell_type": "code",
   "execution_count": 22,
   "metadata": {},
   "outputs": [
    {
     "output_type": "execute_result",
     "data": {
      "text/plain": [
       "Index(['policyID', 'statecode', 'county', 'eq_site_limit', 'hu_site_limit',\n",
       "       'fl_site_limit', 'fr_site_limit', 'tiv_2011', 'tiv_2012',\n",
       "       'eq_site_deductible', 'hu_site_deductible', 'fl_site_deductible',\n",
       "       'fr_site_deductible', 'point_latitude', 'point_longitude', 'line',\n",
       "       'construction', 'point_granularity'],\n",
       "      dtype='object')"
      ]
     },
     "metadata": {},
     "execution_count": 22
    }
   ],
   "source": [
    "df.columns"
   ]
  },
  {
   "cell_type": "code",
   "execution_count": 23,
   "metadata": {},
   "outputs": [
    {
     "output_type": "execute_result",
     "data": {
      "text/plain": [
       "   policyID statecode       county  eq_site_limit  hu_site_limit  \\\n",
       "0    119736        FL  CLAY COUNTY       498960.0      498960.00   \n",
       "1    448094        FL  CLAY COUNTY      1322376.3     1322376.30   \n",
       "2    206893        FL  CLAY COUNTY       190724.4      190724.40   \n",
       "3    333743        FL  CLAY COUNTY            0.0       79520.76   \n",
       "4    172534        FL  CLAY COUNTY            0.0      254281.50   \n",
       "\n",
       "   fl_site_limit  fr_site_limit    tiv_2011    tiv_2012  eq_site_deductible  \\\n",
       "0       498960.0       498960.0   498960.00   792148.90                 0.0   \n",
       "1      1322376.3      1322376.3  1322376.30  1438163.57                 0.0   \n",
       "2       190724.4       190724.4   190724.40   192476.78                 0.0   \n",
       "3            0.0            0.0    79520.76    86854.48                 0.0   \n",
       "4            0.0       254281.5   254281.50   246144.49                 0.0   \n",
       "\n",
       "   hu_site_deductible  fl_site_deductible  fr_site_deductible  point_latitude  \\\n",
       "0              9979.2                 0.0                   0       30.102261   \n",
       "1                 0.0                 0.0                   0       30.063936   \n",
       "2                 0.0                 0.0                   0       30.089579   \n",
       "3                 0.0                 0.0                   0       30.063236   \n",
       "4                 0.0                 0.0                   0       30.060614   \n",
       "\n",
       "   point_longitude         line construction  point_granularity  \n",
       "0       -81.711777  Residential      Masonry                  1  \n",
       "1       -81.707664  Residential      Masonry                  3  \n",
       "2       -81.700455  Residential         Wood                  1  \n",
       "3       -81.707703  Residential         Wood                  3  \n",
       "4       -81.702675  Residential         Wood                  1  "
      ],
      "text/html": "<div>\n<style scoped>\n    .dataframe tbody tr th:only-of-type {\n        vertical-align: middle;\n    }\n\n    .dataframe tbody tr th {\n        vertical-align: top;\n    }\n\n    .dataframe thead th {\n        text-align: right;\n    }\n</style>\n<table border=\"1\" class=\"dataframe\">\n  <thead>\n    <tr style=\"text-align: right;\">\n      <th></th>\n      <th>policyID</th>\n      <th>statecode</th>\n      <th>county</th>\n      <th>eq_site_limit</th>\n      <th>hu_site_limit</th>\n      <th>fl_site_limit</th>\n      <th>fr_site_limit</th>\n      <th>tiv_2011</th>\n      <th>tiv_2012</th>\n      <th>eq_site_deductible</th>\n      <th>hu_site_deductible</th>\n      <th>fl_site_deductible</th>\n      <th>fr_site_deductible</th>\n      <th>point_latitude</th>\n      <th>point_longitude</th>\n      <th>line</th>\n      <th>construction</th>\n      <th>point_granularity</th>\n    </tr>\n  </thead>\n  <tbody>\n    <tr>\n      <th>0</th>\n      <td>119736</td>\n      <td>FL</td>\n      <td>CLAY COUNTY</td>\n      <td>498960.0</td>\n      <td>498960.00</td>\n      <td>498960.0</td>\n      <td>498960.0</td>\n      <td>498960.00</td>\n      <td>792148.90</td>\n      <td>0.0</td>\n      <td>9979.2</td>\n      <td>0.0</td>\n      <td>0</td>\n      <td>30.102261</td>\n      <td>-81.711777</td>\n      <td>Residential</td>\n      <td>Masonry</td>\n      <td>1</td>\n    </tr>\n    <tr>\n      <th>1</th>\n      <td>448094</td>\n      <td>FL</td>\n      <td>CLAY COUNTY</td>\n      <td>1322376.3</td>\n      <td>1322376.30</td>\n      <td>1322376.3</td>\n      <td>1322376.3</td>\n      <td>1322376.30</td>\n      <td>1438163.57</td>\n      <td>0.0</td>\n      <td>0.0</td>\n      <td>0.0</td>\n      <td>0</td>\n      <td>30.063936</td>\n      <td>-81.707664</td>\n      <td>Residential</td>\n      <td>Masonry</td>\n      <td>3</td>\n    </tr>\n    <tr>\n      <th>2</th>\n      <td>206893</td>\n      <td>FL</td>\n      <td>CLAY COUNTY</td>\n      <td>190724.4</td>\n      <td>190724.40</td>\n      <td>190724.4</td>\n      <td>190724.4</td>\n      <td>190724.40</td>\n      <td>192476.78</td>\n      <td>0.0</td>\n      <td>0.0</td>\n      <td>0.0</td>\n      <td>0</td>\n      <td>30.089579</td>\n      <td>-81.700455</td>\n      <td>Residential</td>\n      <td>Wood</td>\n      <td>1</td>\n    </tr>\n    <tr>\n      <th>3</th>\n      <td>333743</td>\n      <td>FL</td>\n      <td>CLAY COUNTY</td>\n      <td>0.0</td>\n      <td>79520.76</td>\n      <td>0.0</td>\n      <td>0.0</td>\n      <td>79520.76</td>\n      <td>86854.48</td>\n      <td>0.0</td>\n      <td>0.0</td>\n      <td>0.0</td>\n      <td>0</td>\n      <td>30.063236</td>\n      <td>-81.707703</td>\n      <td>Residential</td>\n      <td>Wood</td>\n      <td>3</td>\n    </tr>\n    <tr>\n      <th>4</th>\n      <td>172534</td>\n      <td>FL</td>\n      <td>CLAY COUNTY</td>\n      <td>0.0</td>\n      <td>254281.50</td>\n      <td>0.0</td>\n      <td>254281.5</td>\n      <td>254281.50</td>\n      <td>246144.49</td>\n      <td>0.0</td>\n      <td>0.0</td>\n      <td>0.0</td>\n      <td>0</td>\n      <td>30.060614</td>\n      <td>-81.702675</td>\n      <td>Residential</td>\n      <td>Wood</td>\n      <td>1</td>\n    </tr>\n  </tbody>\n</table>\n</div>"
     },
     "metadata": {},
     "execution_count": 23
    }
   ],
   "source": [
    "# :5 represents select 5 rows[0,1,2,3,4]\n",
    "df.iloc[:5]"
   ]
  },
  {
   "cell_type": "code",
   "execution_count": 24,
   "metadata": {},
   "outputs": [
    {
     "output_type": "execute_result",
     "data": {
      "text/plain": [
       "       policyID statecode\n",
       "0        119736        FL\n",
       "1        448094        FL\n",
       "2        206893        FL\n",
       "3        333743        FL\n",
       "4        172534        FL\n",
       "...         ...       ...\n",
       "36629    404309        FL\n",
       "36630    465875        FL\n",
       "36631    791209        FL\n",
       "36632    322627        FL\n",
       "36633    398149        FL\n",
       "\n",
       "[36634 rows x 2 columns]"
      ],
      "text/html": "<div>\n<style scoped>\n    .dataframe tbody tr th:only-of-type {\n        vertical-align: middle;\n    }\n\n    .dataframe tbody tr th {\n        vertical-align: top;\n    }\n\n    .dataframe thead th {\n        text-align: right;\n    }\n</style>\n<table border=\"1\" class=\"dataframe\">\n  <thead>\n    <tr style=\"text-align: right;\">\n      <th></th>\n      <th>policyID</th>\n      <th>statecode</th>\n    </tr>\n  </thead>\n  <tbody>\n    <tr>\n      <th>0</th>\n      <td>119736</td>\n      <td>FL</td>\n    </tr>\n    <tr>\n      <th>1</th>\n      <td>448094</td>\n      <td>FL</td>\n    </tr>\n    <tr>\n      <th>2</th>\n      <td>206893</td>\n      <td>FL</td>\n    </tr>\n    <tr>\n      <th>3</th>\n      <td>333743</td>\n      <td>FL</td>\n    </tr>\n    <tr>\n      <th>4</th>\n      <td>172534</td>\n      <td>FL</td>\n    </tr>\n    <tr>\n      <th>...</th>\n      <td>...</td>\n      <td>...</td>\n    </tr>\n    <tr>\n      <th>36629</th>\n      <td>404309</td>\n      <td>FL</td>\n    </tr>\n    <tr>\n      <th>36630</th>\n      <td>465875</td>\n      <td>FL</td>\n    </tr>\n    <tr>\n      <th>36631</th>\n      <td>791209</td>\n      <td>FL</td>\n    </tr>\n    <tr>\n      <th>36632</th>\n      <td>322627</td>\n      <td>FL</td>\n    </tr>\n    <tr>\n      <th>36633</th>\n      <td>398149</td>\n      <td>FL</td>\n    </tr>\n  </tbody>\n</table>\n<p>36634 rows × 2 columns</p>\n</div>"
     },
     "metadata": {},
     "execution_count": 24
    }
   ],
   "source": [
    "# only 2 columns\n",
    "df.iloc[:,:2]"
   ]
  },
  {
   "cell_type": "code",
   "execution_count": 32,
   "metadata": {},
   "outputs": [
    {
     "output_type": "execute_result",
     "data": {
      "text/plain": [
       "4478"
      ]
     },
     "metadata": {},
     "execution_count": 32
    }
   ],
   "source": [
    " #perform operations on columns\n",
    "  df[df['hu_site_deductible']!=0.0].shape[0]"
   ]
  },
  {
   "cell_type": "code",
   "execution_count": 36,
   "metadata": {},
   "outputs": [
    {
     "output_type": "execute_result",
     "data": {
      "text/plain": [
       "                county\n",
       "0          CLAY COUNTY\n",
       "1          CLAY COUNTY\n",
       "2          CLAY COUNTY\n",
       "3          CLAY COUNTY\n",
       "4          CLAY COUNTY\n",
       "...                ...\n",
       "36629  PINELLAS COUNTY\n",
       "36630  PINELLAS COUNTY\n",
       "36631  PINELLAS COUNTY\n",
       "36632  PINELLAS COUNTY\n",
       "36633  PINELLAS COUNTY\n",
       "\n",
       "[36634 rows x 1 columns]"
      ],
      "text/html": "<div>\n<style scoped>\n    .dataframe tbody tr th:only-of-type {\n        vertical-align: middle;\n    }\n\n    .dataframe tbody tr th {\n        vertical-align: top;\n    }\n\n    .dataframe thead th {\n        text-align: right;\n    }\n</style>\n<table border=\"1\" class=\"dataframe\">\n  <thead>\n    <tr style=\"text-align: right;\">\n      <th></th>\n      <th>county</th>\n    </tr>\n  </thead>\n  <tbody>\n    <tr>\n      <th>0</th>\n      <td>CLAY COUNTY</td>\n    </tr>\n    <tr>\n      <th>1</th>\n      <td>CLAY COUNTY</td>\n    </tr>\n    <tr>\n      <th>2</th>\n      <td>CLAY COUNTY</td>\n    </tr>\n    <tr>\n      <th>3</th>\n      <td>CLAY COUNTY</td>\n    </tr>\n    <tr>\n      <th>4</th>\n      <td>CLAY COUNTY</td>\n    </tr>\n    <tr>\n      <th>...</th>\n      <td>...</td>\n    </tr>\n    <tr>\n      <th>36629</th>\n      <td>PINELLAS COUNTY</td>\n    </tr>\n    <tr>\n      <th>36630</th>\n      <td>PINELLAS COUNTY</td>\n    </tr>\n    <tr>\n      <th>36631</th>\n      <td>PINELLAS COUNTY</td>\n    </tr>\n    <tr>\n      <th>36632</th>\n      <td>PINELLAS COUNTY</td>\n    </tr>\n    <tr>\n      <th>36633</th>\n      <td>PINELLAS COUNTY</td>\n    </tr>\n  </tbody>\n</table>\n<p>36634 rows × 1 columns</p>\n</div>"
     },
     "metadata": {},
     "execution_count": 36
    }
   ],
   "source": [
    "#access 3rd column of df\n",
    "df.iloc[:,2:3]"
   ]
  },
  {
   "cell_type": "code",
   "execution_count": 43,
   "metadata": {},
   "outputs": [
    {
     "output_type": "execute_result",
     "data": {
      "text/plain": [
       "              line construction\n",
       "0      Residential      Masonry\n",
       "1      Residential      Masonry\n",
       "2      Residential         Wood\n",
       "3      Residential         Wood\n",
       "4      Residential         Wood\n",
       "...            ...          ...\n",
       "36629  Residential         Wood\n",
       "36630  Residential      Masonry\n",
       "36631  Residential         Wood\n",
       "36632  Residential      Masonry\n",
       "36633  Residential      Masonry\n",
       "\n",
       "[36634 rows x 2 columns]"
      ],
      "text/html": "<div>\n<style scoped>\n    .dataframe tbody tr th:only-of-type {\n        vertical-align: middle;\n    }\n\n    .dataframe tbody tr th {\n        vertical-align: top;\n    }\n\n    .dataframe thead th {\n        text-align: right;\n    }\n</style>\n<table border=\"1\" class=\"dataframe\">\n  <thead>\n    <tr style=\"text-align: right;\">\n      <th></th>\n      <th>line</th>\n      <th>construction</th>\n    </tr>\n  </thead>\n  <tbody>\n    <tr>\n      <th>0</th>\n      <td>Residential</td>\n      <td>Masonry</td>\n    </tr>\n    <tr>\n      <th>1</th>\n      <td>Residential</td>\n      <td>Masonry</td>\n    </tr>\n    <tr>\n      <th>2</th>\n      <td>Residential</td>\n      <td>Wood</td>\n    </tr>\n    <tr>\n      <th>3</th>\n      <td>Residential</td>\n      <td>Wood</td>\n    </tr>\n    <tr>\n      <th>4</th>\n      <td>Residential</td>\n      <td>Wood</td>\n    </tr>\n    <tr>\n      <th>...</th>\n      <td>...</td>\n      <td>...</td>\n    </tr>\n    <tr>\n      <th>36629</th>\n      <td>Residential</td>\n      <td>Wood</td>\n    </tr>\n    <tr>\n      <th>36630</th>\n      <td>Residential</td>\n      <td>Masonry</td>\n    </tr>\n    <tr>\n      <th>36631</th>\n      <td>Residential</td>\n      <td>Wood</td>\n    </tr>\n    <tr>\n      <th>36632</th>\n      <td>Residential</td>\n      <td>Masonry</td>\n    </tr>\n    <tr>\n      <th>36633</th>\n      <td>Residential</td>\n      <td>Masonry</td>\n    </tr>\n  </tbody>\n</table>\n<p>36634 rows × 2 columns</p>\n</div>"
     },
     "metadata": {},
     "execution_count": 43
    }
   ],
   "source": [
    "#access the last two columns of df\n",
    "df.iloc[:,-3:-1]"
   ]
  },
  {
   "cell_type": "code",
   "execution_count": 45,
   "metadata": {},
   "outputs": [
    {
     "output_type": "execute_result",
     "data": {
      "text/plain": [
       "       policyID statecode\n",
       "36623    592170        FL\n",
       "36624    827844        FL\n",
       "36625    876385        FL\n",
       "36626    167630        FL\n",
       "36627    241496        FL\n",
       "36628    780814        FL\n",
       "36629    404309        FL\n",
       "36630    465875        FL\n",
       "36631    791209        FL\n",
       "36632    322627        FL"
      ],
      "text/html": "<div>\n<style scoped>\n    .dataframe tbody tr th:only-of-type {\n        vertical-align: middle;\n    }\n\n    .dataframe tbody tr th {\n        vertical-align: top;\n    }\n\n    .dataframe thead th {\n        text-align: right;\n    }\n</style>\n<table border=\"1\" class=\"dataframe\">\n  <thead>\n    <tr style=\"text-align: right;\">\n      <th></th>\n      <th>policyID</th>\n      <th>statecode</th>\n    </tr>\n  </thead>\n  <tbody>\n    <tr>\n      <th>36623</th>\n      <td>592170</td>\n      <td>FL</td>\n    </tr>\n    <tr>\n      <th>36624</th>\n      <td>827844</td>\n      <td>FL</td>\n    </tr>\n    <tr>\n      <th>36625</th>\n      <td>876385</td>\n      <td>FL</td>\n    </tr>\n    <tr>\n      <th>36626</th>\n      <td>167630</td>\n      <td>FL</td>\n    </tr>\n    <tr>\n      <th>36627</th>\n      <td>241496</td>\n      <td>FL</td>\n    </tr>\n    <tr>\n      <th>36628</th>\n      <td>780814</td>\n      <td>FL</td>\n    </tr>\n    <tr>\n      <th>36629</th>\n      <td>404309</td>\n      <td>FL</td>\n    </tr>\n    <tr>\n      <th>36630</th>\n      <td>465875</td>\n      <td>FL</td>\n    </tr>\n    <tr>\n      <th>36631</th>\n      <td>791209</td>\n      <td>FL</td>\n    </tr>\n    <tr>\n      <th>36632</th>\n      <td>322627</td>\n      <td>FL</td>\n    </tr>\n  </tbody>\n</table>\n</div>"
     },
     "metadata": {},
     "execution_count": 45
    }
   ],
   "source": [
    "#last 10 rows of first two columns\n",
    "df.iloc[-11:-1,:2]"
   ]
  },
  {
   "cell_type": "code",
   "execution_count": null,
   "metadata": {},
   "outputs": [],
   "source": []
  }
 ]
}